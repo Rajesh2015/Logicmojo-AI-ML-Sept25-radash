{
  "cells": [
    {
      "cell_type": "markdown",
      "metadata": {
        "id": "view-in-github",
        "colab_type": "text"
      },
      "source": [
        "<a href=\"https://colab.research.google.com/github/Rajesh2015/Logicmojo-AI-ML-Sept25-radash/blob/main/EDA/IMDb%2BMovie%2BAssignment.ipynb\" target=\"_parent\"><img src=\"https://colab.research.google.com/assets/colab-badge.svg\" alt=\"Open In Colab\"/></a>"
      ]
    },
    {
      "cell_type": "code",
      "execution_count": 1,
      "metadata": {
        "id": "ZkWTVzAhlyqi"
      },
      "outputs": [],
      "source": [
        "# Filtering out the warnings\n",
        "\n",
        "import warnings\n",
        "\n",
        "warnings.filterwarnings('ignore')"
      ]
    },
    {
      "cell_type": "code",
      "execution_count": 2,
      "metadata": {
        "id": "Bakj6pC3lyqj"
      },
      "outputs": [],
      "source": [
        "# Importing the required libraries\n",
        "\n",
        "import numpy as np\n",
        "import pandas as pd\n",
        "import seaborn as sns\n",
        "import matplotlib.pyplot as plt\n"
      ]
    },
    {
      "cell_type": "markdown",
      "metadata": {
        "id": "XoFZ0Uavlyqk"
      },
      "source": [
        "# <font color = blue> IMDb Movie Assignment </font>\n",
        "\n",
        "You have the data for the 100 top-rated movies from the past decade along with various pieces of information about the movie, its actors, and the voters who have rated these movies online. In this assignment, you will try to find some interesting insights into these movies and their voters, using Python."
      ]
    },
    {
      "cell_type": "markdown",
      "metadata": {
        "id": "lD6tEn7Ilyql"
      },
      "source": [
        "##  Task 1: Reading the data"
      ]
    },
    {
      "cell_type": "markdown",
      "metadata": {
        "id": "yDy3Jabelyql"
      },
      "source": [
        "- ### Subtask 1.1: Read the Movies Data.\n",
        "\n",
        "Read the movies data file provided and store it in a dataframe `movies`."
      ]
    },
    {
      "cell_type": "code",
      "source": [
        "from google.colab import drive\n",
        "drive.mount('/content/drive')"
      ],
      "metadata": {
        "id": "nfWTOcAoopyZ",
        "outputId": "c6392c0a-78d6-4f0a-d465-b7ee8afe540d",
        "colab": {
          "base_uri": "https://localhost:8080/"
        }
      },
      "execution_count": 4,
      "outputs": [
        {
          "output_type": "stream",
          "name": "stdout",
          "text": [
            "Mounted at /content/drive\n"
          ]
        }
      ]
    },
    {
      "cell_type": "code",
      "source": [
        "!ls drive/MyDrive/EDAAssignment/Movie"
      ],
      "metadata": {
        "id": "_hdq0ptWpAps",
        "outputId": "d9ae72e9-614a-4c85-ac24-233d12e32363",
        "colab": {
          "base_uri": "https://localhost:8080/"
        }
      },
      "execution_count": 18,
      "outputs": [
        {
          "output_type": "stream",
          "name": "stdout",
          "text": [
            "Movie+Assignment+Data.csv  Movie+Assignment+Data+Dictionary.xlsx\n"
          ]
        }
      ]
    },
    {
      "cell_type": "code",
      "source": [
        "file_path = '/content/drive/MyDrive/EDAAssignment/Movie/Movie+Assignment+Data.csv'\n"
      ],
      "metadata": {
        "id": "OJa5tQnsoygM"
      },
      "execution_count": 28,
      "outputs": []
    },
    {
      "cell_type": "code",
      "execution_count": 29,
      "metadata": {
        "id": "HCcRjdBvlyql"
      },
      "outputs": [],
      "source": [
        "# Read the csv file using 'read_csv'. Please write your dataset location here.\n",
        "\n",
        "movie_df=pd.read_csv(file_path)"
      ]
    },
    {
      "cell_type": "markdown",
      "metadata": {
        "id": "Y7VWGQMjlyql"
      },
      "source": [
        "- ###  Subtask 1.2: Inspect the Dataframe\n",
        "\n",
        "Inspect the dataframe for dimensions, null-values, and summary of different numeric columns."
      ]
    },
    {
      "cell_type": "code",
      "execution_count": 30,
      "metadata": {
        "id": "S2SsjAetlyql",
        "outputId": "d312d13c-0840-40ca-eee0-30ec33b2c68a",
        "colab": {
          "base_uri": "https://localhost:8080/"
        }
      },
      "outputs": [
        {
          "output_type": "stream",
          "name": "stdout",
          "text": [
            "<class 'pandas.core.frame.DataFrame'>\n",
            "RangeIndex: 100 entries, 0 to 99\n",
            "Data columns (total 62 columns):\n",
            " #   Column                  Non-Null Count  Dtype  \n",
            "---  ------                  --------------  -----  \n",
            " 0   Title                   100 non-null    object \n",
            " 1   title_year              100 non-null    int64  \n",
            " 2   budget                  100 non-null    int64  \n",
            " 3   Gross                   100 non-null    int64  \n",
            " 4   actor_1_name            100 non-null    object \n",
            " 5   actor_2_name            100 non-null    object \n",
            " 6   actor_3_name            100 non-null    object \n",
            " 7   actor_1_facebook_likes  100 non-null    int64  \n",
            " 8   actor_2_facebook_likes  99 non-null     float64\n",
            " 9   actor_3_facebook_likes  98 non-null     float64\n",
            " 10  IMDb_rating             100 non-null    float64\n",
            " 11  genre_1                 100 non-null    object \n",
            " 12  genre_2                 97 non-null     object \n",
            " 13  genre_3                 74 non-null     object \n",
            " 14  MetaCritic              95 non-null     float64\n",
            " 15  Runtime                 100 non-null    int64  \n",
            " 16  CVotes10                100 non-null    int64  \n",
            " 17  CVotes09                100 non-null    int64  \n",
            " 18  CVotes08                100 non-null    int64  \n",
            " 19  CVotes07                100 non-null    int64  \n",
            " 20  CVotes06                100 non-null    int64  \n",
            " 21  CVotes05                100 non-null    int64  \n",
            " 22  CVotes04                100 non-null    int64  \n",
            " 23  CVotes03                100 non-null    int64  \n",
            " 24  CVotes02                100 non-null    int64  \n",
            " 25  CVotes01                100 non-null    int64  \n",
            " 26  CVotesMale              100 non-null    int64  \n",
            " 27  CVotesFemale            100 non-null    int64  \n",
            " 28  CVotesU18               100 non-null    int64  \n",
            " 29  CVotesU18M              100 non-null    int64  \n",
            " 30  CVotesU18F              100 non-null    int64  \n",
            " 31  CVotes1829              100 non-null    int64  \n",
            " 32  CVotes1829M             100 non-null    int64  \n",
            " 33  CVotes1829F             100 non-null    int64  \n",
            " 34  CVotes3044              100 non-null    int64  \n",
            " 35  CVotes3044M             100 non-null    int64  \n",
            " 36  CVotes3044F             100 non-null    int64  \n",
            " 37  CVotes45A               100 non-null    int64  \n",
            " 38  CVotes45AM              100 non-null    int64  \n",
            " 39  CVotes45AF              100 non-null    int64  \n",
            " 40  CVotes1000              100 non-null    int64  \n",
            " 41  CVotesUS                100 non-null    int64  \n",
            " 42  CVotesnUS               100 non-null    int64  \n",
            " 43  VotesM                  100 non-null    float64\n",
            " 44  VotesF                  100 non-null    float64\n",
            " 45  VotesU18                100 non-null    float64\n",
            " 46  VotesU18M               100 non-null    float64\n",
            " 47  VotesU18F               100 non-null    float64\n",
            " 48  Votes1829               100 non-null    float64\n",
            " 49  Votes1829M              100 non-null    float64\n",
            " 50  Votes1829F              100 non-null    float64\n",
            " 51  Votes3044               100 non-null    float64\n",
            " 52  Votes3044M              100 non-null    float64\n",
            " 53  Votes3044F              100 non-null    float64\n",
            " 54  Votes45A                100 non-null    float64\n",
            " 55  Votes45AM               100 non-null    float64\n",
            " 56  Votes45AF               100 non-null    float64\n",
            " 57  Votes1000               100 non-null    float64\n",
            " 58  VotesUS                 100 non-null    float64\n",
            " 59  VotesnUS                100 non-null    float64\n",
            " 60  content_rating          100 non-null    object \n",
            " 61  Country                 100 non-null    object \n",
            "dtypes: float64(21), int64(32), object(9)\n",
            "memory usage: 48.6+ KB\n"
          ]
        }
      ],
      "source": [
        "# Check the number of rows and columns in the dataframe\n",
        "movie_df.info()\n"
      ]
    },
    {
      "cell_type": "markdown",
      "source": [
        "- There are 62 columns with around 100 rows in this dataset"
      ],
      "metadata": {
        "id": "CLTpc0Csrm9j"
      }
    },
    {
      "cell_type": "code",
      "execution_count": 46,
      "metadata": {
        "id": "JPZlgYENlyql",
        "outputId": "9948e01b-f1ae-4d82-c839-a9b1aff31b6c",
        "colab": {
          "base_uri": "https://localhost:8080/",
          "height": 143
        }
      },
      "outputs": [
        {
          "output_type": "execute_result",
          "data": {
            "text/plain": [
              "             count_types\n",
              "object_type            9\n",
              "int64                 32\n",
              "float64               21"
            ],
            "text/html": [
              "\n",
              "  <div id=\"df-1aa00308-085a-48d5-be6d-b85fde81c864\" class=\"colab-df-container\">\n",
              "    <div>\n",
              "<style scoped>\n",
              "    .dataframe tbody tr th:only-of-type {\n",
              "        vertical-align: middle;\n",
              "    }\n",
              "\n",
              "    .dataframe tbody tr th {\n",
              "        vertical-align: top;\n",
              "    }\n",
              "\n",
              "    .dataframe thead th {\n",
              "        text-align: right;\n",
              "    }\n",
              "</style>\n",
              "<table border=\"1\" class=\"dataframe\">\n",
              "  <thead>\n",
              "    <tr style=\"text-align: right;\">\n",
              "      <th></th>\n",
              "      <th>count_types</th>\n",
              "    </tr>\n",
              "  </thead>\n",
              "  <tbody>\n",
              "    <tr>\n",
              "      <th>object_type</th>\n",
              "      <td>9</td>\n",
              "    </tr>\n",
              "    <tr>\n",
              "      <th>int64</th>\n",
              "      <td>32</td>\n",
              "    </tr>\n",
              "    <tr>\n",
              "      <th>float64</th>\n",
              "      <td>21</td>\n",
              "    </tr>\n",
              "  </tbody>\n",
              "</table>\n",
              "</div>\n",
              "    <div class=\"colab-df-buttons\">\n",
              "\n",
              "  <div class=\"colab-df-container\">\n",
              "    <button class=\"colab-df-convert\" onclick=\"convertToInteractive('df-1aa00308-085a-48d5-be6d-b85fde81c864')\"\n",
              "            title=\"Convert this dataframe to an interactive table.\"\n",
              "            style=\"display:none;\">\n",
              "\n",
              "  <svg xmlns=\"http://www.w3.org/2000/svg\" height=\"24px\" viewBox=\"0 -960 960 960\">\n",
              "    <path d=\"M120-120v-720h720v720H120Zm60-500h600v-160H180v160Zm220 220h160v-160H400v160Zm0 220h160v-160H400v160ZM180-400h160v-160H180v160Zm440 0h160v-160H620v160ZM180-180h160v-160H180v160Zm440 0h160v-160H620v160Z\"/>\n",
              "  </svg>\n",
              "    </button>\n",
              "\n",
              "  <style>\n",
              "    .colab-df-container {\n",
              "      display:flex;\n",
              "      gap: 12px;\n",
              "    }\n",
              "\n",
              "    .colab-df-convert {\n",
              "      background-color: #E8F0FE;\n",
              "      border: none;\n",
              "      border-radius: 50%;\n",
              "      cursor: pointer;\n",
              "      display: none;\n",
              "      fill: #1967D2;\n",
              "      height: 32px;\n",
              "      padding: 0 0 0 0;\n",
              "      width: 32px;\n",
              "    }\n",
              "\n",
              "    .colab-df-convert:hover {\n",
              "      background-color: #E2EBFA;\n",
              "      box-shadow: 0px 1px 2px rgba(60, 64, 67, 0.3), 0px 1px 3px 1px rgba(60, 64, 67, 0.15);\n",
              "      fill: #174EA6;\n",
              "    }\n",
              "\n",
              "    .colab-df-buttons div {\n",
              "      margin-bottom: 4px;\n",
              "    }\n",
              "\n",
              "    [theme=dark] .colab-df-convert {\n",
              "      background-color: #3B4455;\n",
              "      fill: #D2E3FC;\n",
              "    }\n",
              "\n",
              "    [theme=dark] .colab-df-convert:hover {\n",
              "      background-color: #434B5C;\n",
              "      box-shadow: 0px 1px 3px 1px rgba(0, 0, 0, 0.15);\n",
              "      filter: drop-shadow(0px 1px 2px rgba(0, 0, 0, 0.3));\n",
              "      fill: #FFFFFF;\n",
              "    }\n",
              "  </style>\n",
              "\n",
              "    <script>\n",
              "      const buttonEl =\n",
              "        document.querySelector('#df-1aa00308-085a-48d5-be6d-b85fde81c864 button.colab-df-convert');\n",
              "      buttonEl.style.display =\n",
              "        google.colab.kernel.accessAllowed ? 'block' : 'none';\n",
              "\n",
              "      async function convertToInteractive(key) {\n",
              "        const element = document.querySelector('#df-1aa00308-085a-48d5-be6d-b85fde81c864');\n",
              "        const dataTable =\n",
              "          await google.colab.kernel.invokeFunction('convertToInteractive',\n",
              "                                                    [key], {});\n",
              "        if (!dataTable) return;\n",
              "\n",
              "        const docLinkHtml = 'Like what you see? Visit the ' +\n",
              "          '<a target=\"_blank\" href=https://colab.research.google.com/notebooks/data_table.ipynb>data table notebook</a>'\n",
              "          + ' to learn more about interactive tables.';\n",
              "        element.innerHTML = '';\n",
              "        dataTable['output_type'] = 'display_data';\n",
              "        await google.colab.output.renderOutput(dataTable, element);\n",
              "        const docLink = document.createElement('div');\n",
              "        docLink.innerHTML = docLinkHtml;\n",
              "        element.appendChild(docLink);\n",
              "      }\n",
              "    </script>\n",
              "  </div>\n",
              "\n",
              "\n",
              "    <div id=\"df-144f3654-a307-406d-880e-ff26a4f03508\">\n",
              "      <button class=\"colab-df-quickchart\" onclick=\"quickchart('df-144f3654-a307-406d-880e-ff26a4f03508')\"\n",
              "                title=\"Suggest charts\"\n",
              "                style=\"display:none;\">\n",
              "\n",
              "<svg xmlns=\"http://www.w3.org/2000/svg\" height=\"24px\"viewBox=\"0 0 24 24\"\n",
              "     width=\"24px\">\n",
              "    <g>\n",
              "        <path d=\"M19 3H5c-1.1 0-2 .9-2 2v14c0 1.1.9 2 2 2h14c1.1 0 2-.9 2-2V5c0-1.1-.9-2-2-2zM9 17H7v-7h2v7zm4 0h-2V7h2v10zm4 0h-2v-4h2v4z\"/>\n",
              "    </g>\n",
              "</svg>\n",
              "      </button>\n",
              "\n",
              "<style>\n",
              "  .colab-df-quickchart {\n",
              "      --bg-color: #E8F0FE;\n",
              "      --fill-color: #1967D2;\n",
              "      --hover-bg-color: #E2EBFA;\n",
              "      --hover-fill-color: #174EA6;\n",
              "      --disabled-fill-color: #AAA;\n",
              "      --disabled-bg-color: #DDD;\n",
              "  }\n",
              "\n",
              "  [theme=dark] .colab-df-quickchart {\n",
              "      --bg-color: #3B4455;\n",
              "      --fill-color: #D2E3FC;\n",
              "      --hover-bg-color: #434B5C;\n",
              "      --hover-fill-color: #FFFFFF;\n",
              "      --disabled-bg-color: #3B4455;\n",
              "      --disabled-fill-color: #666;\n",
              "  }\n",
              "\n",
              "  .colab-df-quickchart {\n",
              "    background-color: var(--bg-color);\n",
              "    border: none;\n",
              "    border-radius: 50%;\n",
              "    cursor: pointer;\n",
              "    display: none;\n",
              "    fill: var(--fill-color);\n",
              "    height: 32px;\n",
              "    padding: 0;\n",
              "    width: 32px;\n",
              "  }\n",
              "\n",
              "  .colab-df-quickchart:hover {\n",
              "    background-color: var(--hover-bg-color);\n",
              "    box-shadow: 0 1px 2px rgba(60, 64, 67, 0.3), 0 1px 3px 1px rgba(60, 64, 67, 0.15);\n",
              "    fill: var(--button-hover-fill-color);\n",
              "  }\n",
              "\n",
              "  .colab-df-quickchart-complete:disabled,\n",
              "  .colab-df-quickchart-complete:disabled:hover {\n",
              "    background-color: var(--disabled-bg-color);\n",
              "    fill: var(--disabled-fill-color);\n",
              "    box-shadow: none;\n",
              "  }\n",
              "\n",
              "  .colab-df-spinner {\n",
              "    border: 2px solid var(--fill-color);\n",
              "    border-color: transparent;\n",
              "    border-bottom-color: var(--fill-color);\n",
              "    animation:\n",
              "      spin 1s steps(1) infinite;\n",
              "  }\n",
              "\n",
              "  @keyframes spin {\n",
              "    0% {\n",
              "      border-color: transparent;\n",
              "      border-bottom-color: var(--fill-color);\n",
              "      border-left-color: var(--fill-color);\n",
              "    }\n",
              "    20% {\n",
              "      border-color: transparent;\n",
              "      border-left-color: var(--fill-color);\n",
              "      border-top-color: var(--fill-color);\n",
              "    }\n",
              "    30% {\n",
              "      border-color: transparent;\n",
              "      border-left-color: var(--fill-color);\n",
              "      border-top-color: var(--fill-color);\n",
              "      border-right-color: var(--fill-color);\n",
              "    }\n",
              "    40% {\n",
              "      border-color: transparent;\n",
              "      border-right-color: var(--fill-color);\n",
              "      border-top-color: var(--fill-color);\n",
              "    }\n",
              "    60% {\n",
              "      border-color: transparent;\n",
              "      border-right-color: var(--fill-color);\n",
              "    }\n",
              "    80% {\n",
              "      border-color: transparent;\n",
              "      border-right-color: var(--fill-color);\n",
              "      border-bottom-color: var(--fill-color);\n",
              "    }\n",
              "    90% {\n",
              "      border-color: transparent;\n",
              "      border-bottom-color: var(--fill-color);\n",
              "    }\n",
              "  }\n",
              "</style>\n",
              "\n",
              "      <script>\n",
              "        async function quickchart(key) {\n",
              "          const quickchartButtonEl =\n",
              "            document.querySelector('#' + key + ' button');\n",
              "          quickchartButtonEl.disabled = true;  // To prevent multiple clicks.\n",
              "          quickchartButtonEl.classList.add('colab-df-spinner');\n",
              "          try {\n",
              "            const charts = await google.colab.kernel.invokeFunction(\n",
              "                'suggestCharts', [key], {});\n",
              "          } catch (error) {\n",
              "            console.error('Error during call to suggestCharts:', error);\n",
              "          }\n",
              "          quickchartButtonEl.classList.remove('colab-df-spinner');\n",
              "          quickchartButtonEl.classList.add('colab-df-quickchart-complete');\n",
              "        }\n",
              "        (() => {\n",
              "          let quickchartButtonEl =\n",
              "            document.querySelector('#df-144f3654-a307-406d-880e-ff26a4f03508 button');\n",
              "          quickchartButtonEl.style.display =\n",
              "            google.colab.kernel.accessAllowed ? 'block' : 'none';\n",
              "        })();\n",
              "      </script>\n",
              "    </div>\n",
              "\n",
              "    </div>\n",
              "  </div>\n"
            ],
            "application/vnd.google.colaboratory.intrinsic+json": {
              "type": "dataframe",
              "summary": "{\n  \"name\": \"pd\",\n  \"rows\": 3,\n  \"fields\": [\n    {\n      \"column\": \"count_types\",\n      \"properties\": {\n        \"dtype\": \"number\",\n        \"std\": 11,\n        \"min\": 9,\n        \"max\": 32,\n        \"num_unique_values\": 3,\n        \"samples\": [\n          9,\n          32,\n          21\n        ],\n        \"semantic_type\": \"\",\n        \"description\": \"\"\n      }\n    }\n  ]\n}"
            }
          },
          "metadata": {},
          "execution_count": 46
        }
      ],
      "source": [
        "# Check the column-wise info of the dataframe\n",
        "\n",
        "all_cols=movie_df.columns\n",
        "res={}\n",
        "\n",
        "for col in all_cols:\n",
        " if movie_df[col].dtype == 'object':\n",
        "    prevcount=res.get('object_type',0)\n",
        "    res['object_type']=prevcount+1\n",
        " elif movie_df[col].dtype =='int64':\n",
        "    prevcount=res.get('int64',0)\n",
        "    res['int64']=prevcount+1\n",
        " else:\n",
        "    prevcount=res.get('float64',0)\n",
        "    res['float64']=prevcount+1\n",
        "\n",
        "pd.DataFrame(res,index=[\"count_types\"]).T\n"
      ]
    },
    {
      "cell_type": "markdown",
      "source": [
        "There are total 9 objecttypes 32 int types and 21 float types"
      ],
      "metadata": {
        "id": "eF380wunyC20"
      }
    },
    {
      "cell_type": "code",
      "source": [
        "for col in all_cols:\n",
        "  if movie_df[col].dtype not in ['int64', 'float64']:\n",
        "      print(f\"{col} is Object\")\n"
      ],
      "metadata": {
        "id": "2_m7XU2ZybBD",
        "outputId": "6c257446-9212-4681-d91d-d5a98f266101",
        "colab": {
          "base_uri": "https://localhost:8080/"
        }
      },
      "execution_count": 47,
      "outputs": [
        {
          "output_type": "stream",
          "name": "stdout",
          "text": [
            "Title is Object\n",
            "actor_1_name is Object\n",
            "actor_2_name is Object\n",
            "actor_3_name is Object\n",
            "genre_1 is Object\n",
            "genre_2 is Object\n",
            "genre_3 is Object\n",
            "content_rating is Object\n",
            "Country is Object\n"
          ]
        }
      ]
    },
    {
      "cell_type": "markdown",
      "source": [
        "All these columns should be String type instaed these are Object type"
      ],
      "metadata": {
        "id": "1Hs8xszdztfW"
      }
    },
    {
      "cell_type": "code",
      "execution_count": 48,
      "metadata": {
        "id": "u6TlQkaylyql",
        "outputId": "f2f7666f-e76e-4db1-ac62-94c012f36dda",
        "colab": {
          "base_uri": "https://localhost:8080/",
          "height": 350
        }
      },
      "outputs": [
        {
          "output_type": "execute_result",
          "data": {
            "text/plain": [
              "        title_year        budget         Gross  actor_1_facebook_likes  \\\n",
              "count   100.000000  1.000000e+02  1.000000e+02              100.000000   \n",
              "mean   2012.820000  7.838400e+07  1.468679e+08            13407.270000   \n",
              "std       1.919491  7.445295e+07  1.454004e+08            10649.037862   \n",
              "min    2010.000000  3.000000e+06  2.238380e+05               39.000000   \n",
              "25%    2011.000000  1.575000e+07  4.199752e+07             1000.000000   \n",
              "50%    2013.000000  4.225000e+07  1.070266e+08            13000.000000   \n",
              "75%    2014.000000  1.500000e+08  2.107548e+08            20000.000000   \n",
              "max    2016.000000  2.600000e+08  9.366622e+08            35000.000000   \n",
              "\n",
              "       actor_2_facebook_likes  actor_3_facebook_likes  IMDb_rating  \\\n",
              "count               99.000000               98.000000   100.000000   \n",
              "mean              7377.303030             3002.153061     7.883000   \n",
              "std              13471.568216             6940.301133     0.247433   \n",
              "min                 12.000000                0.000000     7.500000   \n",
              "25%                580.000000              319.750000     7.700000   \n",
              "50%               1000.000000              626.500000     7.800000   \n",
              "75%              11000.000000             1000.000000     8.100000   \n",
              "max              96000.000000            46000.000000     8.800000   \n",
              "\n",
              "       MetaCritic     Runtime       CVotes10  ...  Votes1829F   Votes3044  \\\n",
              "count   95.000000  100.000000     100.000000  ...  100.000000  100.000000   \n",
              "mean    78.252632  126.420000   73212.160000  ...    7.982000    7.732000   \n",
              "std      9.122066   19.050799   82669.594746  ...    0.321417    0.251814   \n",
              "min     62.000000   91.000000    6420.000000  ...    7.300000    7.300000   \n",
              "25%     72.000000  114.750000   30587.000000  ...    7.700000    7.600000   \n",
              "50%     78.000000  124.000000   54900.500000  ...    8.000000    7.700000   \n",
              "75%     83.500000  136.250000   80639.000000  ...    8.200000    7.900000   \n",
              "max    100.000000  180.000000  584839.000000  ...    8.800000    8.700000   \n",
              "\n",
              "       Votes3044M  Votes3044F   Votes45A   Votes45AM   Votes45AF   Votes1000  \\\n",
              "count  100.000000  100.000000  100.00000  100.000000  100.000000  100.000000   \n",
              "mean     7.723000    7.780000    7.65100    7.624000    7.770000    7.274000   \n",
              "std      0.260479    0.282128    0.21485    0.213258    0.301344    0.361987   \n",
              "min      7.200000    7.200000    7.10000    7.100000    7.000000    6.400000   \n",
              "25%      7.500000    7.600000    7.50000    7.475000    7.500000    7.100000   \n",
              "50%      7.700000    7.800000    7.65000    7.600000    7.800000    7.300000   \n",
              "75%      7.900000    8.000000    7.80000    7.800000    7.925000    7.500000   \n",
              "max      8.700000    8.500000    8.10000    8.100000    8.500000    8.200000   \n",
              "\n",
              "          VotesUS    VotesnUS  \n",
              "count  100.000000  100.000000  \n",
              "mean     7.958000    7.793000  \n",
              "std      0.232327    0.264099  \n",
              "min      7.500000    7.300000  \n",
              "25%      7.800000    7.600000  \n",
              "50%      7.950000    7.750000  \n",
              "75%      8.100000    7.925000  \n",
              "max      8.700000    8.800000  \n",
              "\n",
              "[8 rows x 53 columns]"
            ],
            "text/html": [
              "\n",
              "  <div id=\"df-e0437888-c6a6-4ac6-b271-0cbfd6acebf8\" class=\"colab-df-container\">\n",
              "    <div>\n",
              "<style scoped>\n",
              "    .dataframe tbody tr th:only-of-type {\n",
              "        vertical-align: middle;\n",
              "    }\n",
              "\n",
              "    .dataframe tbody tr th {\n",
              "        vertical-align: top;\n",
              "    }\n",
              "\n",
              "    .dataframe thead th {\n",
              "        text-align: right;\n",
              "    }\n",
              "</style>\n",
              "<table border=\"1\" class=\"dataframe\">\n",
              "  <thead>\n",
              "    <tr style=\"text-align: right;\">\n",
              "      <th></th>\n",
              "      <th>title_year</th>\n",
              "      <th>budget</th>\n",
              "      <th>Gross</th>\n",
              "      <th>actor_1_facebook_likes</th>\n",
              "      <th>actor_2_facebook_likes</th>\n",
              "      <th>actor_3_facebook_likes</th>\n",
              "      <th>IMDb_rating</th>\n",
              "      <th>MetaCritic</th>\n",
              "      <th>Runtime</th>\n",
              "      <th>CVotes10</th>\n",
              "      <th>...</th>\n",
              "      <th>Votes1829F</th>\n",
              "      <th>Votes3044</th>\n",
              "      <th>Votes3044M</th>\n",
              "      <th>Votes3044F</th>\n",
              "      <th>Votes45A</th>\n",
              "      <th>Votes45AM</th>\n",
              "      <th>Votes45AF</th>\n",
              "      <th>Votes1000</th>\n",
              "      <th>VotesUS</th>\n",
              "      <th>VotesnUS</th>\n",
              "    </tr>\n",
              "  </thead>\n",
              "  <tbody>\n",
              "    <tr>\n",
              "      <th>count</th>\n",
              "      <td>100.000000</td>\n",
              "      <td>1.000000e+02</td>\n",
              "      <td>1.000000e+02</td>\n",
              "      <td>100.000000</td>\n",
              "      <td>99.000000</td>\n",
              "      <td>98.000000</td>\n",
              "      <td>100.000000</td>\n",
              "      <td>95.000000</td>\n",
              "      <td>100.000000</td>\n",
              "      <td>100.000000</td>\n",
              "      <td>...</td>\n",
              "      <td>100.000000</td>\n",
              "      <td>100.000000</td>\n",
              "      <td>100.000000</td>\n",
              "      <td>100.000000</td>\n",
              "      <td>100.00000</td>\n",
              "      <td>100.000000</td>\n",
              "      <td>100.000000</td>\n",
              "      <td>100.000000</td>\n",
              "      <td>100.000000</td>\n",
              "      <td>100.000000</td>\n",
              "    </tr>\n",
              "    <tr>\n",
              "      <th>mean</th>\n",
              "      <td>2012.820000</td>\n",
              "      <td>7.838400e+07</td>\n",
              "      <td>1.468679e+08</td>\n",
              "      <td>13407.270000</td>\n",
              "      <td>7377.303030</td>\n",
              "      <td>3002.153061</td>\n",
              "      <td>7.883000</td>\n",
              "      <td>78.252632</td>\n",
              "      <td>126.420000</td>\n",
              "      <td>73212.160000</td>\n",
              "      <td>...</td>\n",
              "      <td>7.982000</td>\n",
              "      <td>7.732000</td>\n",
              "      <td>7.723000</td>\n",
              "      <td>7.780000</td>\n",
              "      <td>7.65100</td>\n",
              "      <td>7.624000</td>\n",
              "      <td>7.770000</td>\n",
              "      <td>7.274000</td>\n",
              "      <td>7.958000</td>\n",
              "      <td>7.793000</td>\n",
              "    </tr>\n",
              "    <tr>\n",
              "      <th>std</th>\n",
              "      <td>1.919491</td>\n",
              "      <td>7.445295e+07</td>\n",
              "      <td>1.454004e+08</td>\n",
              "      <td>10649.037862</td>\n",
              "      <td>13471.568216</td>\n",
              "      <td>6940.301133</td>\n",
              "      <td>0.247433</td>\n",
              "      <td>9.122066</td>\n",
              "      <td>19.050799</td>\n",
              "      <td>82669.594746</td>\n",
              "      <td>...</td>\n",
              "      <td>0.321417</td>\n",
              "      <td>0.251814</td>\n",
              "      <td>0.260479</td>\n",
              "      <td>0.282128</td>\n",
              "      <td>0.21485</td>\n",
              "      <td>0.213258</td>\n",
              "      <td>0.301344</td>\n",
              "      <td>0.361987</td>\n",
              "      <td>0.232327</td>\n",
              "      <td>0.264099</td>\n",
              "    </tr>\n",
              "    <tr>\n",
              "      <th>min</th>\n",
              "      <td>2010.000000</td>\n",
              "      <td>3.000000e+06</td>\n",
              "      <td>2.238380e+05</td>\n",
              "      <td>39.000000</td>\n",
              "      <td>12.000000</td>\n",
              "      <td>0.000000</td>\n",
              "      <td>7.500000</td>\n",
              "      <td>62.000000</td>\n",
              "      <td>91.000000</td>\n",
              "      <td>6420.000000</td>\n",
              "      <td>...</td>\n",
              "      <td>7.300000</td>\n",
              "      <td>7.300000</td>\n",
              "      <td>7.200000</td>\n",
              "      <td>7.200000</td>\n",
              "      <td>7.10000</td>\n",
              "      <td>7.100000</td>\n",
              "      <td>7.000000</td>\n",
              "      <td>6.400000</td>\n",
              "      <td>7.500000</td>\n",
              "      <td>7.300000</td>\n",
              "    </tr>\n",
              "    <tr>\n",
              "      <th>25%</th>\n",
              "      <td>2011.000000</td>\n",
              "      <td>1.575000e+07</td>\n",
              "      <td>4.199752e+07</td>\n",
              "      <td>1000.000000</td>\n",
              "      <td>580.000000</td>\n",
              "      <td>319.750000</td>\n",
              "      <td>7.700000</td>\n",
              "      <td>72.000000</td>\n",
              "      <td>114.750000</td>\n",
              "      <td>30587.000000</td>\n",
              "      <td>...</td>\n",
              "      <td>7.700000</td>\n",
              "      <td>7.600000</td>\n",
              "      <td>7.500000</td>\n",
              "      <td>7.600000</td>\n",
              "      <td>7.50000</td>\n",
              "      <td>7.475000</td>\n",
              "      <td>7.500000</td>\n",
              "      <td>7.100000</td>\n",
              "      <td>7.800000</td>\n",
              "      <td>7.600000</td>\n",
              "    </tr>\n",
              "    <tr>\n",
              "      <th>50%</th>\n",
              "      <td>2013.000000</td>\n",
              "      <td>4.225000e+07</td>\n",
              "      <td>1.070266e+08</td>\n",
              "      <td>13000.000000</td>\n",
              "      <td>1000.000000</td>\n",
              "      <td>626.500000</td>\n",
              "      <td>7.800000</td>\n",
              "      <td>78.000000</td>\n",
              "      <td>124.000000</td>\n",
              "      <td>54900.500000</td>\n",
              "      <td>...</td>\n",
              "      <td>8.000000</td>\n",
              "      <td>7.700000</td>\n",
              "      <td>7.700000</td>\n",
              "      <td>7.800000</td>\n",
              "      <td>7.65000</td>\n",
              "      <td>7.600000</td>\n",
              "      <td>7.800000</td>\n",
              "      <td>7.300000</td>\n",
              "      <td>7.950000</td>\n",
              "      <td>7.750000</td>\n",
              "    </tr>\n",
              "    <tr>\n",
              "      <th>75%</th>\n",
              "      <td>2014.000000</td>\n",
              "      <td>1.500000e+08</td>\n",
              "      <td>2.107548e+08</td>\n",
              "      <td>20000.000000</td>\n",
              "      <td>11000.000000</td>\n",
              "      <td>1000.000000</td>\n",
              "      <td>8.100000</td>\n",
              "      <td>83.500000</td>\n",
              "      <td>136.250000</td>\n",
              "      <td>80639.000000</td>\n",
              "      <td>...</td>\n",
              "      <td>8.200000</td>\n",
              "      <td>7.900000</td>\n",
              "      <td>7.900000</td>\n",
              "      <td>8.000000</td>\n",
              "      <td>7.80000</td>\n",
              "      <td>7.800000</td>\n",
              "      <td>7.925000</td>\n",
              "      <td>7.500000</td>\n",
              "      <td>8.100000</td>\n",
              "      <td>7.925000</td>\n",
              "    </tr>\n",
              "    <tr>\n",
              "      <th>max</th>\n",
              "      <td>2016.000000</td>\n",
              "      <td>2.600000e+08</td>\n",
              "      <td>9.366622e+08</td>\n",
              "      <td>35000.000000</td>\n",
              "      <td>96000.000000</td>\n",
              "      <td>46000.000000</td>\n",
              "      <td>8.800000</td>\n",
              "      <td>100.000000</td>\n",
              "      <td>180.000000</td>\n",
              "      <td>584839.000000</td>\n",
              "      <td>...</td>\n",
              "      <td>8.800000</td>\n",
              "      <td>8.700000</td>\n",
              "      <td>8.700000</td>\n",
              "      <td>8.500000</td>\n",
              "      <td>8.10000</td>\n",
              "      <td>8.100000</td>\n",
              "      <td>8.500000</td>\n",
              "      <td>8.200000</td>\n",
              "      <td>8.700000</td>\n",
              "      <td>8.800000</td>\n",
              "    </tr>\n",
              "  </tbody>\n",
              "</table>\n",
              "<p>8 rows × 53 columns</p>\n",
              "</div>\n",
              "    <div class=\"colab-df-buttons\">\n",
              "\n",
              "  <div class=\"colab-df-container\">\n",
              "    <button class=\"colab-df-convert\" onclick=\"convertToInteractive('df-e0437888-c6a6-4ac6-b271-0cbfd6acebf8')\"\n",
              "            title=\"Convert this dataframe to an interactive table.\"\n",
              "            style=\"display:none;\">\n",
              "\n",
              "  <svg xmlns=\"http://www.w3.org/2000/svg\" height=\"24px\" viewBox=\"0 -960 960 960\">\n",
              "    <path d=\"M120-120v-720h720v720H120Zm60-500h600v-160H180v160Zm220 220h160v-160H400v160Zm0 220h160v-160H400v160ZM180-400h160v-160H180v160Zm440 0h160v-160H620v160ZM180-180h160v-160H180v160Zm440 0h160v-160H620v160Z\"/>\n",
              "  </svg>\n",
              "    </button>\n",
              "\n",
              "  <style>\n",
              "    .colab-df-container {\n",
              "      display:flex;\n",
              "      gap: 12px;\n",
              "    }\n",
              "\n",
              "    .colab-df-convert {\n",
              "      background-color: #E8F0FE;\n",
              "      border: none;\n",
              "      border-radius: 50%;\n",
              "      cursor: pointer;\n",
              "      display: none;\n",
              "      fill: #1967D2;\n",
              "      height: 32px;\n",
              "      padding: 0 0 0 0;\n",
              "      width: 32px;\n",
              "    }\n",
              "\n",
              "    .colab-df-convert:hover {\n",
              "      background-color: #E2EBFA;\n",
              "      box-shadow: 0px 1px 2px rgba(60, 64, 67, 0.3), 0px 1px 3px 1px rgba(60, 64, 67, 0.15);\n",
              "      fill: #174EA6;\n",
              "    }\n",
              "\n",
              "    .colab-df-buttons div {\n",
              "      margin-bottom: 4px;\n",
              "    }\n",
              "\n",
              "    [theme=dark] .colab-df-convert {\n",
              "      background-color: #3B4455;\n",
              "      fill: #D2E3FC;\n",
              "    }\n",
              "\n",
              "    [theme=dark] .colab-df-convert:hover {\n",
              "      background-color: #434B5C;\n",
              "      box-shadow: 0px 1px 3px 1px rgba(0, 0, 0, 0.15);\n",
              "      filter: drop-shadow(0px 1px 2px rgba(0, 0, 0, 0.3));\n",
              "      fill: #FFFFFF;\n",
              "    }\n",
              "  </style>\n",
              "\n",
              "    <script>\n",
              "      const buttonEl =\n",
              "        document.querySelector('#df-e0437888-c6a6-4ac6-b271-0cbfd6acebf8 button.colab-df-convert');\n",
              "      buttonEl.style.display =\n",
              "        google.colab.kernel.accessAllowed ? 'block' : 'none';\n",
              "\n",
              "      async function convertToInteractive(key) {\n",
              "        const element = document.querySelector('#df-e0437888-c6a6-4ac6-b271-0cbfd6acebf8');\n",
              "        const dataTable =\n",
              "          await google.colab.kernel.invokeFunction('convertToInteractive',\n",
              "                                                    [key], {});\n",
              "        if (!dataTable) return;\n",
              "\n",
              "        const docLinkHtml = 'Like what you see? Visit the ' +\n",
              "          '<a target=\"_blank\" href=https://colab.research.google.com/notebooks/data_table.ipynb>data table notebook</a>'\n",
              "          + ' to learn more about interactive tables.';\n",
              "        element.innerHTML = '';\n",
              "        dataTable['output_type'] = 'display_data';\n",
              "        await google.colab.output.renderOutput(dataTable, element);\n",
              "        const docLink = document.createElement('div');\n",
              "        docLink.innerHTML = docLinkHtml;\n",
              "        element.appendChild(docLink);\n",
              "      }\n",
              "    </script>\n",
              "  </div>\n",
              "\n",
              "\n",
              "    <div id=\"df-a08081c4-0b82-4173-b5fc-c8b0d445c2a5\">\n",
              "      <button class=\"colab-df-quickchart\" onclick=\"quickchart('df-a08081c4-0b82-4173-b5fc-c8b0d445c2a5')\"\n",
              "                title=\"Suggest charts\"\n",
              "                style=\"display:none;\">\n",
              "\n",
              "<svg xmlns=\"http://www.w3.org/2000/svg\" height=\"24px\"viewBox=\"0 0 24 24\"\n",
              "     width=\"24px\">\n",
              "    <g>\n",
              "        <path d=\"M19 3H5c-1.1 0-2 .9-2 2v14c0 1.1.9 2 2 2h14c1.1 0 2-.9 2-2V5c0-1.1-.9-2-2-2zM9 17H7v-7h2v7zm4 0h-2V7h2v10zm4 0h-2v-4h2v4z\"/>\n",
              "    </g>\n",
              "</svg>\n",
              "      </button>\n",
              "\n",
              "<style>\n",
              "  .colab-df-quickchart {\n",
              "      --bg-color: #E8F0FE;\n",
              "      --fill-color: #1967D2;\n",
              "      --hover-bg-color: #E2EBFA;\n",
              "      --hover-fill-color: #174EA6;\n",
              "      --disabled-fill-color: #AAA;\n",
              "      --disabled-bg-color: #DDD;\n",
              "  }\n",
              "\n",
              "  [theme=dark] .colab-df-quickchart {\n",
              "      --bg-color: #3B4455;\n",
              "      --fill-color: #D2E3FC;\n",
              "      --hover-bg-color: #434B5C;\n",
              "      --hover-fill-color: #FFFFFF;\n",
              "      --disabled-bg-color: #3B4455;\n",
              "      --disabled-fill-color: #666;\n",
              "  }\n",
              "\n",
              "  .colab-df-quickchart {\n",
              "    background-color: var(--bg-color);\n",
              "    border: none;\n",
              "    border-radius: 50%;\n",
              "    cursor: pointer;\n",
              "    display: none;\n",
              "    fill: var(--fill-color);\n",
              "    height: 32px;\n",
              "    padding: 0;\n",
              "    width: 32px;\n",
              "  }\n",
              "\n",
              "  .colab-df-quickchart:hover {\n",
              "    background-color: var(--hover-bg-color);\n",
              "    box-shadow: 0 1px 2px rgba(60, 64, 67, 0.3), 0 1px 3px 1px rgba(60, 64, 67, 0.15);\n",
              "    fill: var(--button-hover-fill-color);\n",
              "  }\n",
              "\n",
              "  .colab-df-quickchart-complete:disabled,\n",
              "  .colab-df-quickchart-complete:disabled:hover {\n",
              "    background-color: var(--disabled-bg-color);\n",
              "    fill: var(--disabled-fill-color);\n",
              "    box-shadow: none;\n",
              "  }\n",
              "\n",
              "  .colab-df-spinner {\n",
              "    border: 2px solid var(--fill-color);\n",
              "    border-color: transparent;\n",
              "    border-bottom-color: var(--fill-color);\n",
              "    animation:\n",
              "      spin 1s steps(1) infinite;\n",
              "  }\n",
              "\n",
              "  @keyframes spin {\n",
              "    0% {\n",
              "      border-color: transparent;\n",
              "      border-bottom-color: var(--fill-color);\n",
              "      border-left-color: var(--fill-color);\n",
              "    }\n",
              "    20% {\n",
              "      border-color: transparent;\n",
              "      border-left-color: var(--fill-color);\n",
              "      border-top-color: var(--fill-color);\n",
              "    }\n",
              "    30% {\n",
              "      border-color: transparent;\n",
              "      border-left-color: var(--fill-color);\n",
              "      border-top-color: var(--fill-color);\n",
              "      border-right-color: var(--fill-color);\n",
              "    }\n",
              "    40% {\n",
              "      border-color: transparent;\n",
              "      border-right-color: var(--fill-color);\n",
              "      border-top-color: var(--fill-color);\n",
              "    }\n",
              "    60% {\n",
              "      border-color: transparent;\n",
              "      border-right-color: var(--fill-color);\n",
              "    }\n",
              "    80% {\n",
              "      border-color: transparent;\n",
              "      border-right-color: var(--fill-color);\n",
              "      border-bottom-color: var(--fill-color);\n",
              "    }\n",
              "    90% {\n",
              "      border-color: transparent;\n",
              "      border-bottom-color: var(--fill-color);\n",
              "    }\n",
              "  }\n",
              "</style>\n",
              "\n",
              "      <script>\n",
              "        async function quickchart(key) {\n",
              "          const quickchartButtonEl =\n",
              "            document.querySelector('#' + key + ' button');\n",
              "          quickchartButtonEl.disabled = true;  // To prevent multiple clicks.\n",
              "          quickchartButtonEl.classList.add('colab-df-spinner');\n",
              "          try {\n",
              "            const charts = await google.colab.kernel.invokeFunction(\n",
              "                'suggestCharts', [key], {});\n",
              "          } catch (error) {\n",
              "            console.error('Error during call to suggestCharts:', error);\n",
              "          }\n",
              "          quickchartButtonEl.classList.remove('colab-df-spinner');\n",
              "          quickchartButtonEl.classList.add('colab-df-quickchart-complete');\n",
              "        }\n",
              "        (() => {\n",
              "          let quickchartButtonEl =\n",
              "            document.querySelector('#df-a08081c4-0b82-4173-b5fc-c8b0d445c2a5 button');\n",
              "          quickchartButtonEl.style.display =\n",
              "            google.colab.kernel.accessAllowed ? 'block' : 'none';\n",
              "        })();\n",
              "      </script>\n",
              "    </div>\n",
              "\n",
              "    </div>\n",
              "  </div>\n"
            ],
            "application/vnd.google.colaboratory.intrinsic+json": {
              "type": "dataframe"
            }
          },
          "metadata": {},
          "execution_count": 48
        }
      ],
      "source": [
        "# Check the summary for the numeric columns\n",
        "movie_df.describe(include=['int64', 'float64'])\n"
      ]
    },
    {
      "cell_type": "markdown",
      "metadata": {
        "id": "8oSNAE91lyqm"
      },
      "source": [
        "## Task 2: Data Analysis\n",
        "\n",
        "Now that we have loaded the dataset and inspected it, we see that most of the data is in place. As of now, no data cleaning is required, so let's start with some data manipulation, analysis, and visualisation to get various insights about the data."
      ]
    },
    {
      "cell_type": "markdown",
      "metadata": {
        "id": "pQyrN-Yrlyqm"
      },
      "source": [
        "-  ###  Subtask 2.1: Reduce those Digits!\n",
        "\n",
        "These numbers in the `budget` and `gross` are too big, compromising its readability. Let's convert the unit of the `budget` and `gross` columns from `$` to `million $` first."
      ]
    },
    {
      "cell_type": "code",
      "execution_count": null,
      "metadata": {
        "id": "qTprD__Dlyqm"
      },
      "outputs": [],
      "source": [
        "# Divide the 'gross' and 'budget' columns by 1000000 to convert '$' to 'million $'\n",
        "\n"
      ]
    },
    {
      "cell_type": "markdown",
      "metadata": {
        "id": "EbzCfAUNlyqm"
      },
      "source": [
        "-  ###  Subtask 2.2: Let's Talk Profit!\n",
        "\n",
        "    1. Create a new column called `profit` which contains the difference of the two columns: `gross` and `budget`.\n",
        "    2. Sort the dataframe using the `profit` column as reference.\n",
        "    3. Extract the top ten profiting movies in descending order and store them in a new dataframe - `top10`.\n",
        "    4. Plot a scatter or a joint plot between the columns `budget` and `profit` and write a few words on what you observed.\n",
        "    5. Extract the movies with a negative profit and store them in a new dataframe - `neg_profit`"
      ]
    },
    {
      "cell_type": "code",
      "execution_count": null,
      "metadata": {
        "id": "ow-uPY-5lyqm"
      },
      "outputs": [],
      "source": [
        "# Create the new column named 'profit' by subtracting the 'budget' column from the 'gross' column\n",
        "\n"
      ]
    },
    {
      "cell_type": "code",
      "execution_count": null,
      "metadata": {
        "id": "EUkwtpRNlyqm"
      },
      "outputs": [],
      "source": [
        "# Sort the dataframe with the 'profit' column as reference using the 'sort_values' function. Make sure to set the argument\n",
        "#'ascending' to 'False'\n",
        "\n"
      ]
    },
    {
      "cell_type": "code",
      "execution_count": null,
      "metadata": {
        "id": "6Iwum-9mlyqm"
      },
      "outputs": [],
      "source": [
        "# Get the top 10 profitable movies by using position based indexing. Specify the rows till 10 (0-9)\n",
        "\n"
      ]
    },
    {
      "cell_type": "code",
      "execution_count": null,
      "metadata": {
        "id": "BVwMCL19lyqm"
      },
      "outputs": [],
      "source": [
        "#Plot profit vs budget\n",
        "\n"
      ]
    },
    {
      "cell_type": "markdown",
      "metadata": {
        "id": "PaPLOgztlyqm"
      },
      "source": [
        "The dataset contains the 100 best performing movies from the year 2010 to 2016. However scatter plot tells a different story. You can notice that there are some movies with negative profit. Although good movies do incur losses, but there appear to be quite a few movie with losses. What can be the reason behind this? Lets have a closer look at this by finding the movies with negative profit."
      ]
    },
    {
      "cell_type": "code",
      "execution_count": null,
      "metadata": {
        "id": "XLT8sd_Glyqm"
      },
      "outputs": [],
      "source": [
        "#Find the movies with negative profit\n",
        "\n"
      ]
    },
    {
      "cell_type": "markdown",
      "metadata": {
        "id": "2b4h3gGmlyqm"
      },
      "source": [
        "**`Checkpoint 1:`** Can you spot the movie `Tangled` in the dataset? You may be aware of the movie 'Tangled'. Although its one of the highest grossing movies of all time, it has negative profit as per this result. If you cross check the gross values of this movie (link: https://www.imdb.com/title/tt0398286/), you can see that the gross in the dataset accounts only for the domestic gross and not the worldwide gross. This is true for may other movies also in the list."
      ]
    },
    {
      "cell_type": "markdown",
      "metadata": {
        "id": "eGZ0WoJSlyqm"
      },
      "source": [
        "- ### Subtask 2.3: The General Audience and the Critics\n",
        "\n",
        "You might have noticed the column `MetaCritic` in this dataset. This is a very popular website where an average score is determined through the scores given by the top-rated critics. Second, you also have another column `IMDb_rating` which tells you the IMDb rating of a movie. This rating is determined by taking the average of hundred-thousands of ratings from the general audience.\n",
        "\n",
        "As a part of this subtask, you are required to find out the highest rated movies which have been liked by critics and audiences alike.\n",
        "1. Firstly you will notice that the `MetaCritic` score is on a scale of `100` whereas the `IMDb_rating` is on a scale of 10. First convert the `MetaCritic` column to a scale of 10.\n",
        "2. Now, to find out the movies which have been liked by both critics and audiences alike and also have a high rating overall, you need to -\n",
        "    - Create a new column `Avg_rating` which will have the average of the `MetaCritic` and `Rating` columns\n",
        "    - Retain only the movies in which the absolute difference(using abs() function) between the `IMDb_rating` and `Metacritic` columns is less than 0.5. Refer to this link to know how abs() funtion works - https://www.geeksforgeeks.org/abs-in-python/ .\n",
        "    - Sort these values in a descending order of `Avg_rating` and retain only the movies with a rating equal to higher than `8` and store these movies in a new dataframe `UniversalAcclaim`.\n",
        "    "
      ]
    },
    {
      "cell_type": "code",
      "execution_count": null,
      "metadata": {
        "id": "sCMIC0zklyqm"
      },
      "outputs": [],
      "source": [
        "# Change the scale of MetaCritic\n",
        "\n"
      ]
    },
    {
      "cell_type": "code",
      "execution_count": null,
      "metadata": {
        "id": "kQ-suJ28lyqn"
      },
      "outputs": [],
      "source": [
        "# Find the average ratings\n",
        "\n"
      ]
    },
    {
      "cell_type": "code",
      "execution_count": null,
      "metadata": {
        "id": "NG7fXTSjlyqn"
      },
      "outputs": [],
      "source": [
        "#Sort in descending order of average rating\n",
        "\n"
      ]
    },
    {
      "cell_type": "code",
      "execution_count": null,
      "metadata": {
        "id": "0rKvyg4ilyqn"
      },
      "outputs": [],
      "source": [
        "# Find the movies with metacritic-rating < 0.5 and also with the average rating of >8\n",
        "\n",
        "\n"
      ]
    },
    {
      "cell_type": "markdown",
      "metadata": {
        "id": "TrCxK1pulyqn"
      },
      "source": [
        "**`Checkpoint 2:`** Can you spot a `Star Wars` movie in your final dataset?"
      ]
    },
    {
      "cell_type": "markdown",
      "metadata": {
        "id": "YPZ3LkLhlyqn"
      },
      "source": [
        "- ### Subtask 2.4: Find the Most Popular Trios - I\n",
        "\n",
        "You're a producer looking to make a blockbuster movie. There will primarily be three lead roles in your movie and you wish to cast the most popular actors for it. Now, since you don't want to take a risk, you will cast a trio which has already acted in together in a movie before. The metric that you've chosen to check the popularity is the Facebook likes of each of these actors.\n",
        "\n",
        "The dataframe has three columns to help you out for the same, viz. `actor_1_facebook_likes`, `actor_2_facebook_likes`, and `actor_3_facebook_likes`. Your objective is to find the trios which has the most number of Facebook likes combined. That is, the sum of `actor_1_facebook_likes`, `actor_2_facebook_likes` and `actor_3_facebook_likes` should be maximum.\n",
        "Find out the top 5 popular trios, and output their names in a list.\n"
      ]
    },
    {
      "cell_type": "code",
      "execution_count": null,
      "metadata": {
        "id": "lml1VBjSlyqn"
      },
      "outputs": [],
      "source": [
        "# Write your code here\n",
        "\n"
      ]
    },
    {
      "cell_type": "markdown",
      "metadata": {
        "id": "NjO7paiGlyqn"
      },
      "source": [
        "- ### Subtask 2.5: Find the Most Popular Trios - II\n",
        "\n",
        "In the previous subtask you found the popular trio based on the total number of facebook likes. Let's add a small condition to it and make sure that all three actors are popular. The condition is **none of the three actors' Facebook likes should be less than half of the other two**. For example, the following is a valid combo:\n",
        "- actor_1_facebook_likes: 70000\n",
        "- actor_2_facebook_likes: 40000\n",
        "- actor_3_facebook_likes: 50000\n",
        "\n",
        "But the below one is not:\n",
        "- actor_1_facebook_likes: 70000\n",
        "- actor_2_facebook_likes: 40000\n",
        "- actor_3_facebook_likes: 30000\n",
        "\n",
        "since in this case, `actor_3_facebook_likes` is 30000, which is less than half of `actor_1_facebook_likes`.\n",
        "\n",
        "Having this condition ensures that you aren't getting any unpopular actor in your trio (since the total likes calculated in the previous question doesn't tell anything about the individual popularities of each actor in the trio.).\n",
        "\n",
        "You can do a manual inspection of the top 5 popular trios you have found in the previous subtask and check how many of those trios satisfy this condition. Also, which is the most popular trio after applying the condition above?"
      ]
    },
    {
      "cell_type": "markdown",
      "metadata": {
        "id": "B8dWWWBslyqn"
      },
      "source": [
        "**Write your answers below.**\n",
        "\n",
        "- **`No. of trios that satisfy the above condition:`**\n",
        "\n",
        "- **`Most popular trio after applying the condition:`**"
      ]
    },
    {
      "cell_type": "markdown",
      "metadata": {
        "id": "kGYqXb4mlyqn"
      },
      "source": [
        "**`Optional:`** Even though you are finding this out by a natural inspection of the dataframe, can you also achieve this through some *if-else* statements to incorporate this. You can try this out on your own time after you are done with the assignment."
      ]
    },
    {
      "cell_type": "code",
      "execution_count": null,
      "metadata": {
        "id": "ilkHlyJ6lyqn"
      },
      "outputs": [],
      "source": [
        "# Your answer here (optional)\n",
        "\n"
      ]
    },
    {
      "cell_type": "markdown",
      "metadata": {
        "id": "NfeAZukZlyqn"
      },
      "source": [
        "- ### Subtask 2.6: Runtime Analysis\n",
        "\n",
        "There is a column named `Runtime` in the dataframe which primarily shows the length of the movie. It might be intersting to see how this variable this distributed. Plot a `histogram` or `distplot` of seaborn to find the `Runtime` range most of the movies fall into."
      ]
    },
    {
      "cell_type": "code",
      "execution_count": null,
      "metadata": {
        "id": "Xhx-qzjblyqn"
      },
      "outputs": [],
      "source": [
        "# Runtime histogram/density plot\n"
      ]
    },
    {
      "cell_type": "markdown",
      "metadata": {
        "id": "1fjNYDh5lyqn"
      },
      "source": [
        "**`Checkpoint 3:`** Most of the movies appear to be sharply 2 hour-long."
      ]
    },
    {
      "cell_type": "markdown",
      "metadata": {
        "id": "h1fAPhFClyqn"
      },
      "source": [
        "- ### Subtask 2.7: R-Rated Movies\n",
        "\n",
        "Although R rated movies are restricted movies for the under 18 age group, still there are vote counts from that age group. Among all the R rated movies that have been voted by the under-18 age group, find the top 10 movies that have the highest number of votes i.e.`CVotesU18` from the `movies` dataframe. Store these in a dataframe named `PopularR`."
      ]
    },
    {
      "cell_type": "code",
      "execution_count": null,
      "metadata": {
        "id": "XrcYI1XRlyqo"
      },
      "outputs": [],
      "source": [
        "# Write your code here\n",
        "\n"
      ]
    },
    {
      "cell_type": "markdown",
      "metadata": {
        "id": "w29cJnUGlyqo"
      },
      "source": [
        "**`Checkpoint 4:`** Are these kids watching `Deadpool` a lot?"
      ]
    },
    {
      "cell_type": "markdown",
      "metadata": {
        "id": "ed7QJu4rlyq9"
      },
      "source": []
    },
    {
      "cell_type": "markdown",
      "metadata": {
        "id": "XoKUwDw3lyq9"
      },
      "source": [
        "## Task 3 : Demographic analysis\n",
        "\n",
        "If you take a look at the last columns in the dataframe, most of these are related to demographics of the voters (in the last subtask, i.e., 2.8, you made use one of these columns - CVotesU18). We also have three genre columns indicating the genres of a particular movie. We will extensively use these columns for the third and the final stage of our assignment wherein we will analyse the voters across all demographics and also see how these vary across various genres. So without further ado, let's get started with `demographic analysis`."
      ]
    },
    {
      "cell_type": "markdown",
      "metadata": {
        "id": "ZH5BAH4-lyq9"
      },
      "source": [
        "-  ###  Subtask 3.1 Combine the Dataframe by Genres\n",
        "\n",
        "There are 3 columns in the dataframe - `genre_1`, `genre_2`, and `genre_3`. As a part of this subtask, you need to aggregate a few values over these 3 columns.\n",
        "1. First create a new dataframe `df_by_genre` that contains `genre_1`, `genre_2`, and `genre_3` and all the columns related to **CVotes/Votes** from the `movies` data frame. There are 47 columns to be extracted in total.\n",
        "2. Now, Add a column called `cnt` to the dataframe `df_by_genre` and initialize it to one. You will realise the use of this column by the end of this subtask.\n",
        "3. First group the dataframe `df_by_genre` by `genre_1` and find the sum of all the numeric columns such as `cnt`, columns related to CVotes and Votes columns and store it in a dataframe `df_by_g1`.\n",
        "4. Perform the same operation for `genre_2` and `genre_3` and store it dataframes `df_by_g2` and `df_by_g3` respectively.\n",
        "5. Now that you have 3 dataframes performed by grouping over `genre_1`, `genre_2`, and `genre_3` separately, it's time to combine them. For this, add the three dataframes and store it in a new dataframe `df_add`, so that the corresponding values of Votes/CVotes get added for each genre.There is a function called `add()` in pandas which lets you do this. You can refer to this link to see how this function works. https://pandas.pydata.org/pandas-docs/version/0.23.4/generated/pandas.DataFrame.add.html\n",
        "6. The column `cnt` on aggregation has basically kept the track of the number of occurences of each genre.Subset the genres that have atleast 10 movies into a new dataframe `genre_top10` based on the `cnt` column value.\n",
        "7. Now, take the mean of all the numeric columns by dividing them with the column value `cnt` and store it back to the same dataframe. We will be using this dataframe for further analysis in this task unless it is explicitly mentioned to use the dataframe `movies`.\n",
        "8. Since the number of votes can't be a fraction, type cast all the CVotes related columns to integers. Also, round off all the Votes related columns upto two digits after the decimal point.\n"
      ]
    },
    {
      "cell_type": "code",
      "execution_count": null,
      "metadata": {
        "id": "50oFAZTolyq9"
      },
      "outputs": [],
      "source": [
        "# Create the dataframe df_by_genre\n",
        "\n"
      ]
    },
    {
      "cell_type": "code",
      "execution_count": null,
      "metadata": {
        "id": "C8XKhfYNlyq9"
      },
      "outputs": [],
      "source": [
        "# Create a column cnt and initialize it to 1\n",
        "\n"
      ]
    },
    {
      "cell_type": "code",
      "execution_count": null,
      "metadata": {
        "id": "E2ws2brOlyq9"
      },
      "outputs": [],
      "source": [
        "# Group the movies by individual genres\n",
        "\n"
      ]
    },
    {
      "cell_type": "code",
      "execution_count": null,
      "metadata": {
        "id": "kEuJ8b5nlyq9"
      },
      "outputs": [],
      "source": [
        "# Add the grouped data frames and store it in a new data frame\n",
        "\n"
      ]
    },
    {
      "cell_type": "code",
      "execution_count": null,
      "metadata": {
        "id": "OLXgs1Stlyq9"
      },
      "outputs": [],
      "source": [
        "# Extract genres with atleast 10 occurences\n",
        "\n"
      ]
    },
    {
      "cell_type": "code",
      "execution_count": null,
      "metadata": {
        "id": "BdzXaMKAlyq9"
      },
      "outputs": [],
      "source": [
        "# Take the mean for every column by dividing with cnt\n",
        "\n"
      ]
    },
    {
      "cell_type": "code",
      "execution_count": null,
      "metadata": {
        "id": "MAmOeQkblyq9"
      },
      "outputs": [],
      "source": [
        "# Rounding off the columns of Votes to two decimals\n",
        "\n"
      ]
    },
    {
      "cell_type": "code",
      "execution_count": null,
      "metadata": {
        "id": "qiS8-qVylyq-"
      },
      "outputs": [],
      "source": [
        "# Converting CVotes to int type\n",
        "\n"
      ]
    },
    {
      "cell_type": "markdown",
      "metadata": {
        "id": "Q0AfH3kBlyq-"
      },
      "source": [
        "If you take a look at the final dataframe that you have gotten, you will see that you now have the complete information about all the demographic (Votes- and CVotes-related) columns across the top 10 genres. We can use this dataset to extract exciting insights about the voters!"
      ]
    },
    {
      "cell_type": "markdown",
      "metadata": {
        "id": "_QdnoRSQlyq-"
      },
      "source": [
        "-  ###  Subtask 3.2: Genre Counts!\n",
        "\n",
        "Now let's derive some insights from this data frame. Make a bar chart plotting different genres vs cnt using seaborn."
      ]
    },
    {
      "cell_type": "code",
      "execution_count": null,
      "metadata": {
        "id": "BKdEVnQ9lyq-"
      },
      "outputs": [],
      "source": [
        "# Countplot for genres\n",
        "\n"
      ]
    },
    {
      "cell_type": "markdown",
      "metadata": {
        "id": "33lSurOYlyq-"
      },
      "source": [
        "**`Checkpoint 5:`** Is the bar for `Drama` the tallest?"
      ]
    },
    {
      "cell_type": "markdown",
      "metadata": {
        "id": "ttI_QZhTlyq-"
      },
      "source": [
        "-  ###  Subtask 3.3: Gender and Genre\n",
        "\n",
        "If you have closely looked at the Votes- and CVotes-related columns, you might have noticed the suffixes `F` and `M` indicating Female and Male. Since we have the vote counts for both males and females, across various age groups, let's now see how the popularity of genres vary between the two genders in the dataframe.\n",
        "\n",
        "1. Make the first heatmap to see how the average number of votes of males is varying across the genres. Use seaborn heatmap for this analysis. The X-axis should contain the four age-groups for males, i.e., `CVotesU18M`,`CVotes1829M`, `CVotes3044M`, and `CVotes45AM`. The Y-axis will have the genres and the annotation in the heatmap tell the average number of votes for that age-male group.\n",
        "\n",
        "2. Make the second heatmap to see how the average number of votes of females is varying across the genres. Use seaborn heatmap for this analysis. The X-axis should contain the four age-groups for females, i.e., `CVotesU18F`,`CVotes1829F`, `CVotes3044F`, and `CVotes45AF`. The Y-axis will have the genres and the annotation in the heatmap tell the average number of votes for that age-female group.\n",
        "\n",
        "3. Make sure that you plot these heatmaps side by side using `subplots` so that you can easily compare the two genders and derive insights.\n",
        "\n",
        "4. Write your any three inferences from this plot. You can make use of the previous bar plot also here for better insights.\n",
        "Refer to this link- https://seaborn.pydata.org/generated/seaborn.heatmap.html. You might have to plot something similar to the fifth chart in this page (You have to plot two such heatmaps side by side).\n",
        "\n",
        "5. Repeat subtasks 1 to 4, but now instead of taking the CVotes-related columns, you need to do the same process for the Votes-related columns. These heatmaps will show you how the two genders have rated movies across various genres.\n",
        "\n",
        "You might need the below link for formatting your heatmap.\n",
        "https://stackoverflow.com/questions/56942670/matplotlib-seaborn-first-and-last-row-cut-in-half-of-heatmap-plot\n",
        "\n",
        "-  Note : Use `genre_top10` dataframe for this subtask"
      ]
    },
    {
      "cell_type": "code",
      "execution_count": null,
      "metadata": {
        "id": "ryQSiNptlyq-"
      },
      "outputs": [],
      "source": [
        "# 1st set of heat maps for CVotes-related columns\n",
        "\n"
      ]
    },
    {
      "cell_type": "markdown",
      "metadata": {
        "id": "vHMQU-wrlyq-"
      },
      "source": [
        "**`Inferences:`** A few inferences that can be seen from the heatmap above is that males have voted more than females, and Sci-Fi appears to be most popular among the 18-29 age group irrespective of their gender. What more can you infer from the two heatmaps that you have plotted? Write your three inferences/observations below:\n",
        "- Inference 1:\n",
        "- Inference 2:\n",
        "- Inference 3:"
      ]
    },
    {
      "cell_type": "code",
      "execution_count": null,
      "metadata": {
        "id": "zXkN0cuvlyq-"
      },
      "outputs": [],
      "source": [
        "# 2nd set of heat maps for Votes-related columns\n",
        "\n"
      ]
    },
    {
      "cell_type": "markdown",
      "metadata": {
        "id": "_3hYmcMzlyq-"
      },
      "source": [
        "**`Inferences:`** Sci-Fi appears to be the highest rated genre in the age group of U18 for both males and females. Also, females in this age group have rated it a bit higher than the males in the same age group. What more can you infer from the two heatmaps that you have plotted? Write your three inferences/observations below:\n",
        "- Inference 1:\n",
        "- Inference 2:\n",
        "- Inference 3:"
      ]
    },
    {
      "cell_type": "markdown",
      "metadata": {
        "id": "v4iVnuawlyq-"
      },
      "source": [
        "-  ###  Subtask 3.4: US vs non-US Cross Analysis\n",
        "\n",
        "The dataset contains both the US and non-US movies. Let's analyse how both the US and the non-US voters have responded to the US and the non-US movies.\n",
        "\n",
        "1. Create a column `IFUS` in the dataframe `movies`. The column `IFUS` should contain the value \"USA\" if the `Country` of the movie is \"USA\". For all other countries other than the USA, `IFUS` should contain the value `non-USA`.\n",
        "\n",
        "\n",
        "2. Now make a boxplot that shows how the number of votes from the US people i.e. `CVotesUS` is varying for the US and non-US movies. Make use of the column `IFUS` to make this plot. Similarly, make another subplot that shows how non US voters have voted for the US and non-US movies by plotting `CVotesnUS` for both the US and non-US movies. Write any of your two inferences/observations from these plots.\n",
        "\n",
        "\n",
        "3. Again do a similar analysis but with the ratings. Make a boxplot that shows how the ratings from the US people i.e. `VotesUS` is varying for the US and non-US movies. Similarly, make another subplot that shows how `VotesnUS` is varying for the US and non-US movies. Write any of your two inferences/observations from these plots.\n",
        "\n",
        "Note : Use `movies` dataframe for this subtask. Make use of this documention to format your boxplot - https://seaborn.pydata.org/generated/seaborn.boxplot.html"
      ]
    },
    {
      "cell_type": "code",
      "execution_count": null,
      "metadata": {
        "id": "CRW0V9L8lyq-"
      },
      "outputs": [],
      "source": [
        "# Creating IFUS column\n",
        "\n"
      ]
    },
    {
      "cell_type": "code",
      "execution_count": null,
      "metadata": {
        "id": "3A7jdPItlyq-"
      },
      "outputs": [],
      "source": [
        "# Box plot - 1: CVotesUS(y) vs IFUS(x)\n",
        "\n"
      ]
    },
    {
      "cell_type": "markdown",
      "metadata": {
        "id": "UBx2sCc7lyq-"
      },
      "source": [
        "**`Inferences:`** Write your two inferences/observations below:\n",
        "- Inference 1:\n",
        "- Inference 2:"
      ]
    },
    {
      "cell_type": "code",
      "execution_count": null,
      "metadata": {
        "id": "NEP8dS4Plyq-"
      },
      "outputs": [],
      "source": [
        "# Box plot - 2: VotesUS(y) vs IFUS(x)\n",
        "\n"
      ]
    },
    {
      "cell_type": "markdown",
      "metadata": {
        "id": "ZU4ea3H3lyq-"
      },
      "source": [
        "**`Inferences:`** Write your two inferences/observations below:\n",
        "- Inference 1:\n",
        "- Inference 2:"
      ]
    },
    {
      "cell_type": "markdown",
      "metadata": {
        "id": "zQLtcDxGlyq_"
      },
      "source": [
        "-  ###  Subtask 3.5:  Top 1000 Voters Vs Genres\n",
        "\n",
        "You might have also observed the column `CVotes1000`. This column represents the top 1000 voters on IMDb and gives the count for the number of these voters who have voted for a particular movie. Let's see how these top 1000 voters have voted across the genres.\n",
        "\n",
        "1. Sort the dataframe genre_top10 based on the value of `CVotes1000`in a descending order.\n",
        "\n",
        "2. Make a seaborn barplot for `genre` vs `CVotes1000`.\n",
        "\n",
        "3. Write your inferences. You can also try to relate it with the heatmaps you did in the previous subtasks.\n",
        "\n",
        "\n"
      ]
    },
    {
      "cell_type": "code",
      "execution_count": null,
      "metadata": {
        "id": "EAs9CfE-lyq_"
      },
      "outputs": [],
      "source": [
        "# Sorting by CVotes1000\n",
        "\n"
      ]
    },
    {
      "cell_type": "code",
      "execution_count": null,
      "metadata": {
        "id": "XAOqEEbhlyq_"
      },
      "outputs": [],
      "source": [
        "# Bar plot\n"
      ]
    },
    {
      "cell_type": "markdown",
      "metadata": {
        "id": "i1oDPEcslyq_"
      },
      "source": [
        "**`Inferences:`** Write your inferences/observations here."
      ]
    },
    {
      "cell_type": "markdown",
      "metadata": {
        "id": "JWQfIrqelyq_"
      },
      "source": [
        "**`Checkpoint 6:`** The genre `Romance` seems to be most unpopular among the top 1000 voters."
      ]
    },
    {
      "cell_type": "markdown",
      "metadata": {
        "id": "i5h77F1Ilyq_"
      },
      "source": [
        "\n",
        "\n"
      ]
    },
    {
      "cell_type": "markdown",
      "metadata": {
        "id": "jy0vfzvwlyq_"
      },
      "source": [
        "With the above subtask, your assignment is over. In your free time, do explore the dataset further on your own and see what kind of other insights you can get across various other columns."
      ]
    }
  ],
  "metadata": {
    "kernelspec": {
      "display_name": "Python 3",
      "language": "python",
      "name": "python3"
    },
    "language_info": {
      "codemirror_mode": {
        "name": "ipython",
        "version": 3
      },
      "file_extension": ".py",
      "mimetype": "text/x-python",
      "name": "python",
      "nbconvert_exporter": "python",
      "pygments_lexer": "ipython3",
      "version": "3.6.5"
    },
    "colab": {
      "provenance": [],
      "include_colab_link": true
    }
  },
  "nbformat": 4,
  "nbformat_minor": 0
}