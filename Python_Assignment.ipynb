{
  "nbformat": 4,
  "nbformat_minor": 0,
  "metadata": {
    "colab": {
      "provenance": [],
      "authorship_tag": "ABX9TyM6yPGHXPKz5bpJiQyQgNHe",
      "include_colab_link": true
    },
    "kernelspec": {
      "name": "python3",
      "display_name": "Python 3"
    },
    "language_info": {
      "name": "python"
    }
  },
  "cells": [
    {
      "cell_type": "markdown",
      "metadata": {
        "id": "view-in-github",
        "colab_type": "text"
      },
      "source": [
        "<a href=\"https://colab.research.google.com/github/Rajesh2015/Logicmojo-AI-ML-Sept25-radash/blob/main/Python_Assignment.ipynb\" target=\"_parent\"><img src=\"https://colab.research.google.com/assets/colab-badge.svg\" alt=\"Open In Colab\"/></a>"
      ]
    },
    {
      "cell_type": "code",
      "execution_count": null,
      "metadata": {
        "colab": {
          "base_uri": "https://localhost:8080/"
        },
        "id": "04lE1L9GriVn",
        "outputId": "c76a425f-862f-43f3-f871-705548508c00"
      },
      "outputs": [
        {
          "name": "stdout",
          "output_type": "stream",
          "text": [
            "Enter a Number: 19\n",
            "361\n",
            "Enter a Number: 4\n",
            "Enter a Number other then multiple of 4: 5\n"
          ]
        }
      ],
      "source": [
        "num = int(input(\"Enter a Number: \"))\n",
        "while num != 5:\n",
        "    if num % 4 == 0:\n",
        "        num = int(input(\"Enter a Number other then multiple of 4: \"))\n",
        "        continue\n",
        "    print(num * num)\n",
        "    num = int(input(\"Enter a Number: \"))\n"
      ]
    },
    {
      "cell_type": "code",
      "source": [
        "n=int(input(\"Enter no of lines to be printed: \"))\n",
        "for i in range(0,n):\n",
        "    print(\"*****\")\n"
      ],
      "metadata": {
        "colab": {
          "base_uri": "https://localhost:8080/"
        },
        "id": "KCelp0jHt_Pk",
        "outputId": "90d1e2db-ebb1-47ee-ceb3-62c755be8f54"
      },
      "execution_count": null,
      "outputs": [
        {
          "output_type": "stream",
          "name": "stdout",
          "text": [
            "Enter no of lines to be printed: 4\n",
            "*****\n",
            "*****\n",
            "*****\n",
            "*****\n"
          ]
        }
      ]
    },
    {
      "cell_type": "code",
      "source": [
        "n=5\n",
        "for i in range(0,n):\n",
        "    for j in range(0,i+1):\n",
        "        print(\"*\",end=\"\")\n",
        "    print()"
      ],
      "metadata": {
        "colab": {
          "base_uri": "https://localhost:8080/"
        },
        "id": "qwFIxl46u9Wl",
        "outputId": "e4d719af-ff4c-4919-9484-5656b2d3e58b"
      },
      "execution_count": null,
      "outputs": [
        {
          "output_type": "stream",
          "name": "stdout",
          "text": [
            "*\n",
            "**\n",
            "***\n",
            "****\n",
            "*****\n"
          ]
        }
      ]
    },
    {
      "cell_type": "code",
      "source": [
        "n=5\n",
        "for i in range(0,n):\n",
        "    for j in range(0,n-i-1):\n",
        "        print(\" \",end=\"\")\n",
        "    for j in range(0,2*i+1):\n",
        "        print(\"*\",end=\"\")\n",
        "    print()\n"
      ],
      "metadata": {
        "colab": {
          "base_uri": "https://localhost:8080/"
        },
        "id": "hvTXBQzTvjV6",
        "outputId": "3114f814-b653-4311-fa14-e9afbe22955f"
      },
      "execution_count": null,
      "outputs": [
        {
          "output_type": "stream",
          "name": "stdout",
          "text": [
            "    *\n",
            "   ***\n",
            "  *****\n",
            " *******\n",
            "*********\n"
          ]
        }
      ]
    },
    {
      "cell_type": "code",
      "source": [
        "#     *\n",
        "#    ***\n",
        "#   *****\n",
        "#  *******\n",
        "# *********\n",
        "#  *******\n",
        "#   *****\n",
        "#    ***\n",
        "#     *\n"
      ],
      "metadata": {
        "id": "hYrNgeYCUdlB"
      },
      "execution_count": null,
      "outputs": []
    },
    {
      "cell_type": "code",
      "source": [
        "n=5\n",
        "for i in range(0,n):\n",
        "    for j in range(0,n-i-1):\n",
        "        print(\" \",end=\"\")\n",
        "    for j in range(0,2*i+1):\n",
        "        print(\"*\",end=\"\")\n",
        "    print()\n",
        "for i in range((n-2),-1,-1):\n",
        "  for j in range(0,n-i-1):\n",
        "      print(\" \",end=\"\")\n",
        "  for j in range(0,2*i+1):\n",
        "      print(\"*\",end=\"\")\n",
        "  print()\n"
      ],
      "metadata": {
        "colab": {
          "base_uri": "https://localhost:8080/"
        },
        "id": "1swtSG1eUjm4",
        "outputId": "7030f46f-3907-42af-f1c6-66101c447041"
      },
      "execution_count": null,
      "outputs": [
        {
          "output_type": "stream",
          "name": "stdout",
          "text": [
            "    *\n",
            "   ***\n",
            "  *****\n",
            " *******\n",
            "*********\n",
            " *******\n",
            "  *****\n",
            "   ***\n",
            "    *\n"
          ]
        }
      ]
    },
    {
      "cell_type": "code",
      "source": [
        "*****\n",
        "*   *\n",
        "*   *\n",
        "*   *\n",
        "*****"
      ],
      "metadata": {
        "id": "Uj-QG5rsh3qV"
      },
      "execution_count": null,
      "outputs": []
    },
    {
      "cell_type": "code",
      "source": [
        "n=5\n",
        "for i in range(0,n):\n",
        "    for j in range(0,n):\n",
        "        if i==0 or i==n-1 or j==0 or j==n-1:\n",
        "            print(\"*\",end=\"\")\n",
        "        else:\n",
        "            print(\" \",end=\"\")\n",
        "    print()"
      ],
      "metadata": {
        "colab": {
          "base_uri": "https://localhost:8080/"
        },
        "id": "2ZoTyqTCh91m",
        "outputId": "df6c476d-a5c2-4dff-d412-86856c9e6aef"
      },
      "execution_count": null,
      "outputs": [
        {
          "output_type": "stream",
          "name": "stdout",
          "text": [
            "*****\n",
            "*   *\n",
            "*   *\n",
            "*   *\n",
            "*****\n"
          ]
        }
      ]
    },
    {
      "cell_type": "code",
      "source": [
        "# Write a program to check palindrome - With loops\n",
        "\n",
        "inputs=[\"aba\",\"abc\"]\n",
        "\n",
        "for inpt in inputs:\n",
        "  left=0\n",
        "  right=len(inpt)-1\n",
        "  while left<right:\n",
        "    if inpt[left]!=inpt[right]:\n",
        "      print(\"NOT PALINDROME\")\n",
        "      break\n",
        "    left+=1\n",
        "    right-=1\n",
        "  else:\n",
        "    print(\"PALINDROME\")\n"
      ],
      "metadata": {
        "colab": {
          "base_uri": "https://localhost:8080/"
        },
        "id": "vuTlFhR52uCq",
        "outputId": "8121f485-9264-42ec-bda1-2211690a9986"
      },
      "execution_count": null,
      "outputs": [
        {
          "output_type": "stream",
          "name": "stdout",
          "text": [
            "PALINDROME\n",
            "NOT PALINDROME\n"
          ]
        }
      ]
    },
    {
      "cell_type": "markdown",
      "source": [
        "<!-- Write program count the blank spaces. -->\n"
      ],
      "metadata": {
        "id": "l_b5EXSGQCVd"
      }
    },
    {
      "cell_type": "code",
      "source": [
        "# Write program count the blank spaces.\n",
        "input=\"Brown fox jumps over the lazy dog\"\n",
        "count=0\n",
        "for char in input:\n",
        "  if char==\" \":\n",
        "    count+=1\n",
        "print(count)\n"
      ],
      "metadata": {
        "colab": {
          "base_uri": "https://localhost:8080/"
        },
        "id": "U1B-FyEcQJ54",
        "outputId": "c1c0b4dd-3e1c-4c4a-aada-6843af26219f"
      },
      "execution_count": null,
      "outputs": [
        {
          "output_type": "stream",
          "name": "stdout",
          "text": [
            "6\n"
          ]
        }
      ]
    },
    {
      "cell_type": "code",
      "source": [
        "# Write a program to count no. of vowels and print all the vowels.\n",
        "input=\"Brown fox jumps over the lazy dog\"\n",
        "vowels={'a','e','i','o','u'}\n",
        "count=0\n",
        "for char in input:\n",
        "  if char in vowels:\n",
        "    count+=1\n",
        "print(count)"
      ],
      "metadata": {
        "colab": {
          "base_uri": "https://localhost:8080/"
        },
        "id": "-CDqBiFMQXYC",
        "outputId": "9c351c8c-d709-48b1-f43c-9effcee8e220"
      },
      "execution_count": null,
      "outputs": [
        {
          "output_type": "stream",
          "name": "stdout",
          "text": [
            "8\n"
          ]
        }
      ]
    },
    {
      "cell_type": "code",
      "source": [
        "# Write a program to Reversing a String without using reverse()- Try doing this with looops\n",
        "input=\"LogicMojo\"\n",
        "left=0\n",
        "right=len(input)-1\n",
        "inputchar=list(input)\n",
        "while left<right:\n",
        "  inputchar[left],inputchar[right]=inputchar[right],inputchar[left]\n",
        "  left+=1\n",
        "  right-=1\n",
        "\"\".join(inputchar)\n"
      ],
      "metadata": {
        "colab": {
          "base_uri": "https://localhost:8080/",
          "height": 35
        },
        "id": "v7QjqoTR-ckY",
        "outputId": "2700ff3f-f58c-4fa4-d74c-2fbb9819968d"
      },
      "execution_count": null,
      "outputs": [
        {
          "output_type": "execute_result",
          "data": {
            "text/plain": [
              "'ojoMcigoL'"
            ],
            "application/vnd.google.colaboratory.intrinsic+json": {
              "type": "string"
            }
          },
          "metadata": {},
          "execution_count": 38
        }
      ]
    },
    {
      "cell_type": "markdown",
      "source": [
        "Home Work 1:\n",
        "\n",
        "Circular Linked Linked - Insertion, Deletion"
      ],
      "metadata": {
        "id": "LNpsmn1Fslem"
      }
    },
    {
      "cell_type": "code",
      "source": [
        "class Node:\n",
        "  def __init__(self,data):\n",
        "    self.data=data\n",
        "    self.next=None\n",
        "\n",
        "class CircularLinkedList:\n",
        "  def __init__(self):\n",
        "    self.head=None\n",
        "    self.tail=None\n",
        "\n",
        "  def insert_at_end(self,data):\n",
        "    new_node=Node(data)\n",
        "    if self.head is None:\n",
        "      self.head=new_node\n",
        "      self.tail=new_node\n",
        "      new_node.next=self.head\n",
        "    else:\n",
        "      self.tail.next=new_node\n",
        "      new_node.next=self.head\n",
        "      self.tail=new_node\n",
        "\n",
        "  def insert_at_beginning(self,data):\n",
        "    new_node=Node(data)\n",
        "    if self.head is None:\n",
        "      self.head=new_node\n",
        "      self.tail=new_node\n",
        "      new_node.next=self.head\n",
        "    else:\n",
        "      new_node.next=self.head\n",
        "      self.head=new_node\n",
        "      self.tail.next=self.head\n",
        "\n",
        "  def delete_at_end(self):\n",
        "    if self.head is None:\n",
        "      return\n",
        "    if self.head==self.tail:\n",
        "      self.head=None\n",
        "      self.tail=None\n",
        "      return\n",
        "    else:\n",
        "      temp=self.head\n",
        "      while temp.next!=self.tail:\n",
        "        temp=temp.next\n",
        "      temp.next=self.head\n",
        "      self.tail=temp\n",
        "\n",
        "  def delete(self,key)->bool:\n",
        "    if self.head is None:\n",
        "      return False\n",
        "    else:\n",
        "      prev=None\n",
        "      curr=self.head\n",
        "      while curr.next!=self.head:\n",
        "        if curr.data==key:\n",
        "          print(\"found\")\n",
        "          if prev is None:\n",
        "            self.head=curr.next\n",
        "            self.tail.next=self.head\n",
        "            return True\n",
        "          else:\n",
        "            prev.next=curr.next\n",
        "            curr.next=None\n",
        "            return True\n",
        "        prev=curr\n",
        "        curr=curr.next\n",
        "      # handle if the key is at tail\n",
        "      if self.tail.data==key:\n",
        "        self.tail=prev\n",
        "        self.tail.next=self.head\n",
        "        return True\n",
        "    return False\n",
        "  def print_list(self):\n",
        "    if self.head is None:\n",
        "      return\n",
        "    else:\n",
        "      temp=self.head\n",
        "      while temp!=self.tail:\n",
        "        print(temp.data,end=\"->\")\n",
        "        temp=temp.next\n",
        "      print(temp.data)\n",
        "\n"
      ],
      "metadata": {
        "id": "NMh8leuJsl_V"
      },
      "execution_count": 33,
      "outputs": []
    },
    {
      "cell_type": "code",
      "source": [
        "circularlinkedlist=CircularLinkedList()\n",
        "circularlinkedlist.insert_at_end(1)\n",
        "circularlinkedlist.insert_at_end(2)\n",
        "circularlinkedlist.insert_at_end(3)\n",
        "circularlinkedlist.insert_at_end(4)\n",
        "circularlinkedlist.print_list()\n",
        "circularlinkedlist.delete_at_end()\n",
        "circularlinkedlist.print_list()\n",
        "circularlinkedlist.delete(4)\n",
        "circularlinkedlist.print_list()\n"
      ],
      "metadata": {
        "colab": {
          "base_uri": "https://localhost:8080/"
        },
        "id": "mWTY6zE1_ofC",
        "outputId": "ca488a7c-6c18-4c02-c22f-ffedda086132"
      },
      "execution_count": 35,
      "outputs": [
        {
          "output_type": "stream",
          "name": "stdout",
          "text": [
            "1->2->3->4\n",
            "1->2->3\n",
            "1->2->3\n"
          ]
        }
      ]
    },
    {
      "cell_type": "markdown",
      "source": [
        "Q1 : Description Sometimes the data has few duplicate values which will affect the analysis done. In this problem, you will be given a list. You have to find and delete the duplicates and print the updated list with no duplicates.\n",
        "\n",
        "Input: A list of integers.\n",
        "\n",
        "Output: A list of integers, with duplicates removed if any.\n",
        "\n",
        "Sample input: [8, 9, 2, 2, 3, 4, 5, 2]\n",
        "\n",
        "Sample output: [8, 9, 2, 3, 4, 5]\n",
        "\n",
        "Sample input: [4, 4, 4, 4]\n",
        "\n",
        "Sample output: [4]\n",
        "\n",
        "Note the order of the data did not change in input and output."
      ],
      "metadata": {
        "id": "KrhG41U3GgRe"
      }
    },
    {
      "cell_type": "code",
      "source": [
        "def removeduplicates(input):\n",
        "  seen={}\n",
        "  res=[]\n",
        "  for i in input:\n",
        "    if i not in seen:\n",
        "      res.append(i)\n",
        "      seen[i]=True\n",
        "  return res\n",
        "\n",
        "print(removeduplicates([8, 9, 2, 2, 3, 4, 5, 2]))\n"
      ],
      "metadata": {
        "id": "MmQbhwoSZfZT",
        "colab": {
          "base_uri": "https://localhost:8080/"
        },
        "outputId": "568494bd-771a-4303-c955-eb39950e16d4"
      },
      "execution_count": null,
      "outputs": [
        {
          "output_type": "stream",
          "name": "stdout",
          "text": [
            "[8, 9, 2, 3, 4, 5]\n"
          ]
        }
      ]
    },
    {
      "cell_type": "markdown",
      "source": [
        "Q2 : You will be converting a dictionary, of string(keys) and list of string (values), to a list of strings. Please check the sample input/output for clarification.\n",
        "\n",
        "Input: A dictionary with keys as strings and values as a list of strings.\n",
        "\n",
        "Output: A list of strings\n",
        "\n",
        "Sample input: {‘Mobile’: [‘Redmi’, ‘Samsung’, ‘Realme’], ‘Laptop’: [‘Dell’, ‘HP’], ‘TV’: [‘Videocon’, ‘Sony’] }\n",
        "\n",
        "Sample output: [‘Mobile_Redmi’, ‘Mobile_Samsung’, ‘Mobile_Realme’, ‘Laptop_Dell’, ‘Laptop_HP’, ‘TV_Videocon’, ‘TV_Sony’]\n",
        "\n",
        "Sample input: { 'Pen': ['Gel', 'Ink', 'ball'], 'Mobile': ['Android', 'apple'] }\n",
        "\n",
        "Sample output: ['Pen_Gel', 'Pen_Ink', 'Pen_ball', 'Mobile_Android', 'Mobile_apple']"
      ],
      "metadata": {
        "id": "fsI5qYXDIViz"
      }
    },
    {
      "cell_type": "code",
      "source": [
        "from typing import Dict\n",
        "def convert_dict_to_list(inpt:Dict[str,str])->list[str]:\n",
        "  res=[]\n",
        "  for k,v in inpt.items():\n",
        "    value=f\"{k}\"\n",
        "    for i in v:\n",
        "      value=f\"{value}_{i}\"\n",
        "      res.append(value)\n",
        "      value=f\"{k}\"\n",
        "  return res\n",
        "print(convert_dict_to_list({'Pen': ['Gel', 'Ink', 'ball'], 'Mobile': ['Android', 'apple']}))\n",
        "\n"
      ],
      "metadata": {
        "colab": {
          "base_uri": "https://localhost:8080/"
        },
        "id": "TW-801lPIarp",
        "outputId": "bbdd7698-48fe-4115-b746-f4075e870e3c"
      },
      "execution_count": null,
      "outputs": [
        {
          "output_type": "stream",
          "name": "stdout",
          "text": [
            "['Pen_Gel', 'Pen_Ink', 'Pen_ball', 'Mobile_Android', 'Mobile_apple']\n"
          ]
        }
      ]
    },
    {
      "cell_type": "markdown",
      "source": [
        "Q3 : Description You will be given a string with a lot of brackets. You have to print if the brackets are balanced or not. Remember, there are three types of brackets: ‘( )’, ‘{ }’ and ‘[ ]’.\n",
        "\n",
        "Input: A string\n",
        "\n",
        "Output: Yes, if the brackets are balanced. No otherwise."
      ],
      "metadata": {
        "id": "1bfDSA0UKbpm"
      }
    },
    {
      "cell_type": "code",
      "source": [
        "def isbalanced(input:str)->str:\n",
        "  stack=[]\n",
        "  for ch in input:\n",
        "    if len(stack)==0 or ch == '(' or ch =='{' or ch == '[' :\n",
        "      stack.append(ch)\n",
        "    else:\n",
        "      stack.pop()\n",
        "\n",
        "  if len(stack)==0:\n",
        "    return 'Yes'\n",
        "  else:\n",
        "    return 'No'\n",
        "print(isbalanced('{([])}'))\n",
        "print(isbalanced('{([])'))"
      ],
      "metadata": {
        "id": "Isv2l27KKWFk",
        "colab": {
          "base_uri": "https://localhost:8080/"
        },
        "outputId": "01c50800-5003-4d31-ef8a-b0236f57a229"
      },
      "execution_count": null,
      "outputs": [
        {
          "output_type": "stream",
          "name": "stdout",
          "text": [
            "Yes\n",
            "No\n"
          ]
        }
      ]
    },
    {
      "cell_type": "markdown",
      "source": [
        "Q4 You will be given a dictionary with keys as items and values as their prices. You have to print the cheapest item.\n",
        "\n",
        "Sample input: A single line non-empty dictionary\n",
        "\n",
        "Sample output: cheapest_item name: cheapest_item_cost\n",
        "\n",
        "Sample input: {'mobile1':10000, 'mobile2':11000, 'mobile3':13000, 'mobile4':9000, 'mobile5':15000, 'mobile6':16000, 'mobile7':17000, 'mobile8':18000, 'mobile9':19000}\n",
        "\n",
        "Sample output: mobile4: 9000\n",
        "\n",
        "Note: in case of a tie, whichever item came first should be the output."
      ],
      "metadata": {
        "id": "nITVaML3KeaL"
      }
    },
    {
      "cell_type": "code",
      "source": [
        "def find_cheapest(inpt:dict)->dict:\n",
        "  reskey=''\n",
        "  resvalue=float('inf')\n",
        "  for k,v in inpt.items():\n",
        "    if reskey=='':\n",
        "      reskey=k\n",
        "      resvalue=v\n",
        "    elif v<resvalue:\n",
        "      reskey=k\n",
        "      resvalue=v\n",
        "  return {reskey:resvalue}\n",
        "find_cheapest({'mobile1':10000, 'mobile2':11000, 'mobile3':13000, 'mobile4':9000, 'mobile5':15000, 'mobile6':16000, 'mobile7':17000, 'mobile8':18000, 'mobile9':19000})\n"
      ],
      "metadata": {
        "colab": {
          "base_uri": "https://localhost:8080/"
        },
        "id": "vYI5QmcAKcW7",
        "outputId": "d898d954-aa46-4ffb-f7eb-00e2cad966a2"
      },
      "execution_count": null,
      "outputs": [
        {
          "output_type": "execute_result",
          "data": {
            "text/plain": [
              "{'mobile4': 9000}"
            ]
          },
          "metadata": {},
          "execution_count": 2
        }
      ]
    },
    {
      "cell_type": "markdown",
      "source": [
        "Q5 You will be given a list of repeated elements. You have to find the maximum distance between two same elements. The answer will be zero if there are no repeated elements.\n",
        "\n",
        "Input: A non-empty list of integers.\n",
        "\n",
        "Output: A single integer denoting the maximum distance between two same integers.\n",
        "\n",
        "Sample input: [1, 2, 3, 2, 5, 1, 2, 4, 6, 2, 7, 8, 6]\n",
        "\n",
        "Sample output: 8\n",
        "\n",
        "Explanation: Max distance for 1: 5 Max distance for 2: 8 Max distance for 3: 0 Max distance for 4: 0 Max distance for 5: 0 Max distance for 6: 4 Max distance for 7: 0 Max distance for 8: 0"
      ],
      "metadata": {
        "id": "a_T6Kn7fvqac"
      }
    },
    {
      "cell_type": "code",
      "source": [
        "def find_max_dis(inpt:list[int])->int:\n",
        "  map={}\n",
        "  res=0\n",
        "  for i in range(0,len(inpt)):\n",
        "    if inpt[i] in map:\n",
        "      first_index=map[inpt[i]]\n",
        "      res=max(res,i-first_index)\n",
        "    else:\n",
        "      map[inpt[i]]=i\n",
        "  return res\n",
        "find_max_dis([1, 2, 3, 2, 5, 1, 2, 4, 6, 2, 7, 8, 6])"
      ],
      "metadata": {
        "colab": {
          "base_uri": "https://localhost:8080/"
        },
        "id": "6MR9Xnmsvnuw",
        "outputId": "46b162ce-e07d-44cc-dcd3-8cc8d8a9cd0b"
      },
      "execution_count": null,
      "outputs": [
        {
          "output_type": "execute_result",
          "data": {
            "text/plain": [
              "8"
            ]
          },
          "metadata": {},
          "execution_count": 6
        }
      ]
    },
    {
      "cell_type": "markdown",
      "source": [
        "Q6 Your team is going for camping and you are taking a vote to decide what food to pack for dinner.\n",
        "Everyone gets a vote and the food item that gets at least one more than half of the votes wins. None of the items wins if nothing gets at least one more than half votes. Assume that every person gets only one vote.\n",
        "The input will contain a list of food items where each occurrence of an item represents one vote. You should print the winning food item as output. If there is no clear winner, print \"NOTA\".\n",
        "\n",
        "Sample Input:\n",
        "[\"pasta\",\"pasta\",\"pasta\",\"pasta\",\"pasta\",\"paratha\",\"paratha\",\"paratha\"]\n",
        "Sample Output:\n",
        "pasta"
      ],
      "metadata": {
        "id": "P50g_fd12Bja"
      }
    },
    {
      "cell_type": "code",
      "source": [
        "def find_winner(inpt:list[str])->str:\n",
        "  majority_ele=inpt[0]\n",
        "  count=1\n",
        "  for i in range(1,len(inpt)):\n",
        "    if inpt[i]==majority_ele:\n",
        "      count+=1\n",
        "    else:\n",
        "      count-=1\n",
        "    if count==0:\n",
        "      majority_ele=inpt[i]\n",
        "      count=1\n",
        "\n",
        "  count=0\n",
        "  for i in inpt:\n",
        "    if i==majority_ele:\n",
        "      count+=1\n",
        "  if count>len(inpt)//2:\n",
        "    return majority_ele\n",
        "  else:\n",
        "    return \"NOTA\"\n",
        "print(find_winner([\"pasta\",\"pasta\",\"pasta\",\"pasta\",\"pasta\",\"paratha\",\"paratha\",\"paratha\"]))\n",
        "print(find_winner([\"pasta\",\"pasta\",\"pasta\",\"paratha\",\"paratha\",\"paratha\"]))\n",
        "\n"
      ],
      "metadata": {
        "colab": {
          "base_uri": "https://localhost:8080/"
        },
        "id": "b15CZ-a81-Jz",
        "outputId": "be62a5a6-d68a-433e-ea4e-f30eccdfedf8"
      },
      "execution_count": null,
      "outputs": [
        {
          "output_type": "stream",
          "name": "stdout",
          "text": [
            "pasta\n",
            "NOTA\n"
          ]
        }
      ]
    },
    {
      "cell_type": "markdown",
      "source": [
        "Q7 Consider a nested dictionary as follows:\n",
        "\n",
        "{'Fruit': 1, 'Vegetable': {'Cabbage': 2, 'Cauliflower': 3}, 'Spices': 4}\n",
        "\n",
        "Your task is to flatten a nested dictionary and join the nested keys with the \"_\" character. For the above dictionary, the flattened dictionary would be as follows:\n",
        "\n",
        "{'Fruit': 1, 'Vegetable_Cabbage': 2, 'Vegetable_Cauliflower': 3, 'Spices': 4}\n",
        "\n",
        "\n",
        "\n",
        "The input will have a nested dictionary.\n",
        "\n",
        "The output should have two lists. The first list will have keys and the second list should have values. Both lists should be sorted."
      ],
      "metadata": {
        "id": "lhptC0W95vnx"
      }
    },
    {
      "cell_type": "code",
      "source": [
        "def flatten_dict(inpt:dict)->dict:\n",
        "  res={}\n",
        "  helper(inpt,\"\",res)\n",
        "  return res\n",
        "\n",
        "def helper(inpt:dict,prefix:str,res:dict):\n",
        "  for k,v in inpt.items():\n",
        "    if isinstance(v, dict):\n",
        "      helper(v,f\"{prefix}_{k}\")\n",
        "    elif prefix==\"\":\n",
        "      res[k]=v\n",
        "    else:\n",
        "      res[f\"{prefix}_{k}\"]=v\n",
        "flatten_dict({'Fruit': 1, 'Vegetable_Cabbage': 2, 'Vegetable_Cauliflower': 3, 'Spices': 4})"
      ],
      "metadata": {
        "colab": {
          "base_uri": "https://localhost:8080/"
        },
        "id": "QilOdjIt5rEL",
        "outputId": "fbde791e-f178-4397-afea-ea391d2cfa7a"
      },
      "execution_count": null,
      "outputs": [
        {
          "output_type": "execute_result",
          "data": {
            "text/plain": [
              "{'Fruit': 1, 'Vegetable_Cabbage': 2, 'Vegetable_Cauliflower': 3, 'Spices': 4}"
            ]
          },
          "metadata": {},
          "execution_count": 13
        }
      ]
    },
    {
      "cell_type": "markdown",
      "source": [
        "Q 8 In the binary search, you kept reducing the search space into half of the previous search space. In this question, can you similarly reduce the search space in one-third of the last space search and write a searching algorithm?\n",
        "\n",
        "----------------------------------------------------------------------\n",
        "Input:\n",
        "A non-empty sorted list of unique integers in line one\n",
        "The integer key to be found in line two\n",
        "\n",
        "Output:\n",
        "Index of the element key if it is present in the list, else -1\n",
        "\n",
        "----------------------------------------------------------------------\n",
        "Sample input:\n",
        "[3, 5, 7, 9, 11, 13, 15, 17, 19, 21, 23, 25, 27]\n",
        "17\n",
        "\n",
        "Sample output:\n",
        "7\n",
        "\n",
        "----------------------------------------------------------------------\n",
        "Sample input:\n",
        "[3, 5, 7, 9, 11, 13, 15, 17, 19, 21, 23, 25, 27]\n",
        "1\n",
        "\n",
        "\n",
        "Sample output:\n",
        "-1\n"
      ],
      "metadata": {
        "id": "8QJTkHop-g-d"
      }
    },
    {
      "cell_type": "code",
      "source": [
        "def seaarch(inpt:list[int],key:int)->int:\n",
        "  left=0\n",
        "  right=len(inpt)-1\n",
        "  while left<=right:\n",
        "    mid=(left+right)//3\n",
        "    if inpt[mid]==key:\n",
        "      return mid\n",
        "    elif inpt[mid]<key:\n",
        "      left=mid+1\n",
        "    else:\n",
        "      right=mid-1\n",
        "  return -1"
      ],
      "metadata": {
        "id": "Ye-FTKFi-h-g"
      },
      "execution_count": null,
      "outputs": []
    }
  ]
}